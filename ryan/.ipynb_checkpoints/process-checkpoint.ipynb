{
 "cells": [
  {
   "cell_type": "markdown",
   "metadata": {},
   "source": [
    "# Crypto Notebook\n",
    "\n",
    "This demonstrates dealing with reddit logs and pulling out information regarding different coins."
   ]
  },
  {
   "cell_type": "code",
   "execution_count": 1,
   "metadata": {
    "collapsed": true
   },
   "outputs": [],
   "source": [
    "import pandas as pd\n",
    "import json\n",
    "import sys\n",
    "import matplotlib\n",
    "import numpy as np\n",
    "import matplotlib.pyplot as plt\n",
    "%matplotlib inline"
   ]
  },
  {
   "cell_type": "markdown",
   "metadata": {},
   "source": [
    "## Read in the list of coins and their trading name (e.g., BTC)\n",
    "\n",
    "Note: This should be changed to pull from an API as my list is incomplete"
   ]
  },
  {
   "cell_type": "code",
   "execution_count": 2,
   "metadata": {},
   "outputs": [
    {
     "data": {
      "text/html": [
       "<div>\n",
       "<style>\n",
       "    .dataframe thead tr:only-child th {\n",
       "        text-align: right;\n",
       "    }\n",
       "\n",
       "    .dataframe thead th {\n",
       "        text-align: left;\n",
       "    }\n",
       "\n",
       "    .dataframe tbody tr th {\n",
       "        vertical-align: top;\n",
       "    }\n",
       "</style>\n",
       "<table border=\"1\" class=\"dataframe\">\n",
       "  <thead>\n",
       "    <tr style=\"text-align: right;\">\n",
       "      <th></th>\n",
       "      <th>Name</th>\n",
       "      <th>Symbol</th>\n",
       "    </tr>\n",
       "  </thead>\n",
       "  <tbody>\n",
       "    <tr>\n",
       "      <th>0</th>\n",
       "      <td>Bitcoin</td>\n",
       "      <td>BTC</td>\n",
       "    </tr>\n",
       "    <tr>\n",
       "      <th>1</th>\n",
       "      <td>Ethereum</td>\n",
       "      <td>ETH</td>\n",
       "    </tr>\n",
       "    <tr>\n",
       "      <th>2</th>\n",
       "      <td>Ripple</td>\n",
       "      <td>XRP</td>\n",
       "    </tr>\n",
       "    <tr>\n",
       "      <th>3</th>\n",
       "      <td>BitcoinCash</td>\n",
       "      <td>BCH</td>\n",
       "    </tr>\n",
       "    <tr>\n",
       "      <th>4</th>\n",
       "      <td>EOS</td>\n",
       "      <td>EOS</td>\n",
       "    </tr>\n",
       "  </tbody>\n",
       "</table>\n",
       "</div>"
      ],
      "text/plain": [
       "          Name Symbol\n",
       "0      Bitcoin    BTC\n",
       "1     Ethereum    ETH\n",
       "2       Ripple    XRP\n",
       "3  BitcoinCash    BCH\n",
       "4          EOS    EOS"
      ]
     },
     "execution_count": 2,
     "metadata": {},
     "output_type": "execute_result"
    }
   ],
   "source": [
    "coin_df = pd.read_csv('coins.csv', header='infer')\n",
    "coin_df.head()"
   ]
  },
  {
   "cell_type": "markdown",
   "metadata": {},
   "source": [
    "## Working with Reddit data\n",
    "\n",
    "Each line in the file is a JSON document. This is an example:\n",
    "\n",
    "{\"body\": \"So.. nobody told you about XRP?\", \"edited\": false, \"permalink\": \"/r/CryptoCurrency/comments/7nbplq/the_crypto_currency_event_horizion/ds0n4gt/\", \"subreddit_type\": \"public\", \"author_flair_css_class\": \"noflair\", \"stickied\": false, \"author\": \"RobotSkeleton\", \"subreddit\": \"CryptoCurrency\", \"author_flair_text\": \"\", \"created_utc\": 1514764850, \"subreddit_id\": \"t5_2wlj3\", \"distinguished\": null, \"parent_id\": \"t3_7nbplq\", \"score\": 2, \"is_submitter\": false, \"gilded\": 0, \"id\": \"ds0n4gt\", \"can_gild\": true, \"link_id\": \"t3_7nbplq\", \"retrieved_on\": 1517433480, \"controversiality\": 0}"
   ]
  },
  {
   "cell_type": "markdown",
   "metadata": {},
   "source": [
    "# Example extraction\n",
    "\n",
    "This very inefficiently iterates through the comments and makes a dataframe of coin code, message body, and timestamp.\n",
    "\n",
    "Note: This is broken and finds a lot of references to coins that are simply substrings of words."
   ]
  },
  {
   "cell_type": "code",
   "execution_count": 14,
   "metadata": {},
   "outputs": [],
   "source": [
    "filename = \"RC_2018-01-01-crypto.txt\"\n",
    "xlmoccurances = []\n",
    "with open (filename) as f:\n",
    "    all_data = f.readlines()\n",
    "    for line in all_data:\n",
    "        rc = json.loads(line)\n",
    "        if 'XLM' in rc['body']:\n",
    "            xlmoccurances.append({'time': rc['created_utc'], 'body': rc['body'], 'coin': 'XLM'})\n",
    "            \n",
    "#         for index, row in coin_df.iterrows():\n",
    "#             if row['Symbol'].lower() in rc['body'].lower(): \n",
    "            # Lower was giving a lot of false positives\n",
    "#             if row['Symbol'] in rc['body']:\n",
    "#                 occurances.append({'time': rc['created_utc'], 'body': rc['body'], 'coin': row['Symbol']})\n",
    "            "
   ]
  },
  {
   "cell_type": "code",
   "execution_count": 15,
   "metadata": {},
   "outputs": [
    {
     "data": {
      "text/html": [
       "<div>\n",
       "<style>\n",
       "    .dataframe thead tr:only-child th {\n",
       "        text-align: right;\n",
       "    }\n",
       "\n",
       "    .dataframe thead th {\n",
       "        text-align: left;\n",
       "    }\n",
       "\n",
       "    .dataframe tbody tr th {\n",
       "        vertical-align: top;\n",
       "    }\n",
       "</style>\n",
       "<table border=\"1\" class=\"dataframe\">\n",
       "  <thead>\n",
       "    <tr style=\"text-align: right;\">\n",
       "      <th></th>\n",
       "      <th>body</th>\n",
       "      <th>coin</th>\n",
       "      <th>time</th>\n",
       "    </tr>\n",
       "  </thead>\n",
       "  <tbody>\n",
       "    <tr>\n",
       "      <th>0</th>\n",
       "      <td>XLM starting to build some decent traction</td>\n",
       "      <td>XLM</td>\n",
       "      <td>1514766474</td>\n",
       "    </tr>\n",
       "    <tr>\n",
       "      <th>1</th>\n",
       "      <td>REQ and XLM are two very strong service-orient...</td>\n",
       "      <td>XLM</td>\n",
       "      <td>1514767468</td>\n",
       "    </tr>\n",
       "    <tr>\n",
       "      <th>2</th>\n",
       "      <td>If you only have ETH then I would diversify fu...</td>\n",
       "      <td>XLM</td>\n",
       "      <td>1514767472</td>\n",
       "    </tr>\n",
       "    <tr>\n",
       "      <th>3</th>\n",
       "      <td>XLM</td>\n",
       "      <td>XLM</td>\n",
       "      <td>1514767751</td>\n",
       "    </tr>\n",
       "    <tr>\n",
       "      <th>4</th>\n",
       "      <td>IOTA, XLM, XRB  and NEO. No question however a...</td>\n",
       "      <td>XLM</td>\n",
       "      <td>1514768264</td>\n",
       "    </tr>\n",
       "  </tbody>\n",
       "</table>\n",
       "</div>"
      ],
      "text/plain": [
       "                                                body coin        time\n",
       "0         XLM starting to build some decent traction  XLM  1514766474\n",
       "1  REQ and XLM are two very strong service-orient...  XLM  1514767468\n",
       "2  If you only have ETH then I would diversify fu...  XLM  1514767472\n",
       "3                                                XLM  XLM  1514767751\n",
       "4  IOTA, XLM, XRB  and NEO. No question however a...  XLM  1514768264"
      ]
     },
     "execution_count": 15,
     "metadata": {},
     "output_type": "execute_result"
    }
   ],
   "source": [
    "occurances_df = pd.DataFrame(occurances)\n",
    "occurances_df.head()\n",
    "\n",
    "xlmoccurances_df = pd.DataFrame(xlmoccurances)\n",
    "xlmoccurances_df.head()"
   ]
  },
  {
   "cell_type": "markdown",
   "metadata": {},
   "source": [
    "## Check what it looks like"
   ]
  },
  {
   "cell_type": "code",
   "execution_count": 16,
   "metadata": {},
   "outputs": [
    {
     "data": {
      "text/plain": [
       "XLM    402\n",
       "Name: coin, dtype: int64"
      ]
     },
     "execution_count": 16,
     "metadata": {},
     "output_type": "execute_result"
    }
   ],
   "source": [
    "# Get a count of the references\n",
    "counts = occurances_df['coin'].value_counts()\n",
    "counts.head()\n",
    "\n",
    "counts = xlmoccurances_df['coin'].value_counts()\n",
    "counts.head()"
   ]
  },
  {
   "cell_type": "markdown",
   "metadata": {},
   "source": [
    "These are the most commonly referenced \"real coins\"\n",
    "\n",
    "REQ       537 <br>\n",
    "BTC       512 <br>\n",
    "ETH       438 <br>\n",
    "XLM       402 <br>\n",
    "XRP       369 <br>\n",
    "\n",
    "Plot a histogram of their references every 5 minutes"
   ]
  },
  {
   "cell_type": "code",
   "execution_count": 17,
   "metadata": {},
   "outputs": [
    {
     "data": {
      "image/png": "[encoded data removed]",
      "text/plain": [
       "<matplotlib.figure.Figure at 0x7f6e63125550>"
      ]
     },
     "metadata": {},
     "output_type": "display_data"
    }
   ],
   "source": [
    "coin_name = ['REQ', 'BTC', 'ETH', 'XLM', 'XRP']\n",
    "coin_name = ['XLM']\n",
    "for name in coin_name:\n",
    "    single_coin_df = xlmoccurances_df[xlmoccurances_df['coin'] == name]\n",
    "    single_coin_df.head()\n",
    "    plt.figure()\n",
    "    single_coin_df.time.plot(kind='hist', bins=300, title=name)"
   ]
  },
  {
   "cell_type": "markdown",
   "metadata": {},
   "source": [
    "## Get some price information\n",
    "\n",
    "It seems we can grab tickers from here with high/low for 1min-3month intervals. Perhaps just grab some for the most frequently used coins. This link does not work at ANL though :(.\n",
    "\n",
    "curl -X GET 'https://api.binance.com/api/v1/klines?symbol=REQBTC&interval=5m&limit=1000&startTime=1514764800000'"
   ]
  },
  {
   "cell_type": "code",
   "execution_count": 18,
   "metadata": {},
   "outputs": [
    {
     "name": "stdout",
     "output_type": "stream",
     "text": [
      "[1514764800000, '0.00004347', '0.00004350', '0.00004336', '0.00004336', '70998.00000000', 1514765099999, '3.08365274', 89, '37848.00000000', '1.64435912', '0']\n",
      "[1514764800000, 2.603e-05]\n"
     ]
    }
   ],
   "source": [
    "xlmbtc = []\n",
    "with open('xlmbtc.txt') as f:\n",
    "    xlmbtc = json.loads(f.readlines()[0])\n",
    "\n",
    "print (reqbtc[0])\n",
    "\n",
    "small_test = []\n",
    "for p in xlmbtc:\n",
    "    small_test.append([p[0], float(p[2])])\n",
    "    \n",
    "print (small_test[0])"
   ]
  },
  {
   "cell_type": "markdown",
   "metadata": {},
   "source": [
    "This data looks like: <br>\n",
    "[ <br>\n",
    "  [ <br>\n",
    "    1499040000000,      // Open time <br>\n",
    "    \"0.01634790\",       // Open <br>\n",
    "    \"0.80000000\",       // High <br>\n",
    "    \"0.01575800\",       // Low <br>\n",
    "    \"0.01577100\",       // Close <br>\n",
    "    \"148976.11427815\",  // Volume <br>\n",
    "    1499644799999,      // Close time <br>\n",
    "    \"2434.19055334\",    // Quote asset volume <br>\n",
    "    308,                // Number of trades <br>\n",
    "    \"1756.87402397\",    // Taker buy base asset volume <br>\n",
    "    \"28.46694368\",      // Taker buy quote asset volume <br>\n",
    "    \"17928899.62484339\" // Ignore <br>\n",
    "  ] <br>\n",
    "]"
   ]
  },
  {
   "cell_type": "code",
   "execution_count": 19,
   "metadata": {},
   "outputs": [
    {
     "data": {
      "text/html": [
       "<div>\n",
       "<style>\n",
       "    .dataframe thead tr:only-child th {\n",
       "        text-align: right;\n",
       "    }\n",
       "\n",
       "    .dataframe thead th {\n",
       "        text-align: left;\n",
       "    }\n",
       "\n",
       "    .dataframe tbody tr th {\n",
       "        vertical-align: top;\n",
       "    }\n",
       "</style>\n",
       "<table border=\"1\" class=\"dataframe\">\n",
       "  <thead>\n",
       "    <tr style=\"text-align: right;\">\n",
       "      <th></th>\n",
       "      <th>0</th>\n",
       "      <th>1</th>\n",
       "    </tr>\n",
       "  </thead>\n",
       "  <tbody>\n",
       "    <tr>\n",
       "      <th>0</th>\n",
       "      <td>1514764800000</td>\n",
       "      <td>0.000026</td>\n",
       "    </tr>\n",
       "    <tr>\n",
       "      <th>1</th>\n",
       "      <td>1514765100000</td>\n",
       "      <td>0.000026</td>\n",
       "    </tr>\n",
       "    <tr>\n",
       "      <th>2</th>\n",
       "      <td>1514765400000</td>\n",
       "      <td>0.000027</td>\n",
       "    </tr>\n",
       "    <tr>\n",
       "      <th>3</th>\n",
       "      <td>1514765700000</td>\n",
       "      <td>0.000027</td>\n",
       "    </tr>\n",
       "    <tr>\n",
       "      <th>4</th>\n",
       "      <td>1514766000000</td>\n",
       "      <td>0.000027</td>\n",
       "    </tr>\n",
       "  </tbody>\n",
       "</table>\n",
       "</div>"
      ],
      "text/plain": [
       "               0         1\n",
       "0  1514764800000  0.000026\n",
       "1  1514765100000  0.000026\n",
       "2  1514765400000  0.000027\n",
       "3  1514765700000  0.000027\n",
       "4  1514766000000  0.000027"
      ]
     },
     "execution_count": 19,
     "metadata": {},
     "output_type": "execute_result"
    }
   ],
   "source": [
    "reqbtc_df = pd.DataFrame(small_test)\n",
    "reqbtc_df.head()"
   ]
  },
  {
   "cell_type": "code",
   "execution_count": 20,
   "metadata": {},
   "outputs": [
    {
     "data": {
      "text/plain": [
       "<matplotlib.axes._subplots.AxesSubplot at 0x7f6e63580550>"
      ]
     },
     "execution_count": 20,
     "metadata": {},
     "output_type": "execute_result"
    },
    {
     "data": {
      "image/png": "[encoded data removed]",
      "text/plain": [
       "<matplotlib.figure.Figure at 0x7f6e633a84a8>"
      ]
     },
     "metadata": {},
     "output_type": "display_data"
    }
   ],
   "source": [
    "reqbtc_df.plot.line(x=0, y=1)"
   ]
  },
  {
   "cell_type": "code",
   "execution_count": 21,
   "metadata": {},
   "outputs": [
    {
     "data": {
      "image/png": "[encoded data removed]",
      "text/plain": [
       "<matplotlib.figure.Figure at 0x7f6e639cff98>"
      ]
     },
     "metadata": {},
     "output_type": "display_data"
    },
    {
     "data": {
      "image/png": "[encoded data removed]",
      "text/plain": [
       "<matplotlib.figure.Figure at 0x7f6e62d99128>"
      ]
     },
     "metadata": {},
     "output_type": "display_data"
    }
   ],
   "source": [
    "for name in coin_name:\n",
    "    single_coin_df = xlmoccurances_df[xlmoccurances_df['coin'] == name]\n",
    "    single_coin_df.head()\n",
    "    ax = plt.figure()\n",
    "    single_coin_df.time.plot(kind='hist', bins=300, title=name)\n",
    "    reqbtc_df.plot.line(x=0, y=1)"
   ]
  },
  {
   "cell_type": "code",
   "execution_count": null,
   "metadata": {
    "collapsed": true
   },
   "outputs": [],
   "source": []
  }
 ],
 "metadata": {
  "kernelspec": {
   "display_name": "Python 3",
   "language": "python",
   "name": "python3"
  },
  "language_info": {
   "codemirror_mode": {
    "name": "ipython",
    "version": 3
   },
   "file_extension": ".py",
   "mimetype": "text/x-python",
   "name": "python",
   "nbconvert_exporter": "python",
   "pygments_lexer": "ipython3",
   "version": "3.6.5"
  }
 },
 "nbformat": 4,
 "nbformat_minor": 2
}
