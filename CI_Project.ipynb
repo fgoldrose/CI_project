{
 "cells": [
  {
   "cell_type": "code",
   "execution_count": 1,
   "metadata": {
    "slideshow": {
     "slide_type": "-"
    }
   },
   "outputs": [],
   "source": [
    "import json\n",
    "import csv\n",
    "import numpy\n",
    "import pytz\n",
    "import pandas as pd\n",
    "from binance.client import Client\n",
    "import spacy\n",
    "import matplotlib\n",
    "import numpy as np\n",
    "import matplotlib.pyplot as plt\n",
    "from collections import Counter\n",
    "import datetime\n",
    "\n",
    "%matplotlib inline"
   ]
  },
  {
   "cell_type": "code",
   "execution_count": 2,
   "metadata": {},
   "outputs": [],
   "source": [
    "coin = 'EOS' #getting plots for this coin."
   ]
  },
  {
   "cell_type": "markdown",
   "metadata": {},
   "source": [
    "# Get the coin price data from Binance."
   ]
  },
  {
   "cell_type": "code",
   "execution_count": 3,
   "metadata": {},
   "outputs": [],
   "source": [
    "coinfile = \"coins_on_binance.csv\"\n",
    "with open(coinfile) as cf:\n",
    "        rdr = csv.reader(cf)\n",
    "        coins = []\n",
    "        for row in rdr:\n",
    "            coins.append(row)"
   ]
  },
  {
   "cell_type": "markdown",
   "metadata": {},
   "source": [
    "Set up the Binance API to get the data we need."
   ]
  },
  {
   "cell_type": "code",
   "execution_count": 4,
   "metadata": {},
   "outputs": [],
   "source": [
    "client = Client(\"\", \"\")\n",
    "\n",
    "interval = Client.KLINE_INTERVAL_1MINUTE\n",
    "start = \"1 January, 2018\"\n",
    "end = \"7 January, 2018\""
   ]
  },
  {
   "cell_type": "markdown",
   "metadata": {},
   "source": [
    "The following function will get the historical price data for a given symbol (e.g. ETH) over the time interval."
   ]
  },
  {
   "cell_type": "code",
   "execution_count": 5,
   "metadata": {},
   "outputs": [],
   "source": [
    "def get_price_data(symbol):\n",
    "    sym = symbol + \"BTC\"\n",
    "    klines = client.get_historical_klines(sym, interval, start, end)\n",
    "\n",
    "    j = []\n",
    "    for t in klines:\n",
    "        row = [t[6], t[4], t[2], t[3], t[5], t[8]]\n",
    "        j.append(row)\n",
    "    return j"
   ]
  },
  {
   "cell_type": "markdown",
   "metadata": {},
   "source": [
    "Each output has the follow structure\n",
    "[Close time, Close price, High, Low, Volume, Number of trades]"
   ]
  },
  {
   "cell_type": "code",
   "execution_count": 6,
   "metadata": {},
   "outputs": [],
   "source": [
    "def get_all_price_data():\n",
    "    prices = {}\n",
    "    for c in coins:\n",
    "        row = get_price_data(c[1])\n",
    "        prices[c[1]] = row\n",
    "    with open(\"all_prices.json\", \"w\") as f:\n",
    "        json.dump(prices, f)"
   ]
  },
  {
   "cell_type": "code",
   "execution_count": 7,
   "metadata": {},
   "outputs": [],
   "source": [
    "with open(\"all_prices.json\") as f:\n",
    "    all_prices = json.load(f)"
   ]
  },
  {
   "cell_type": "code",
   "execution_count": 8,
   "metadata": {},
   "outputs": [],
   "source": [
    "def plot_price(cur):\n",
    "    price_df = pd.DataFrame(all_prices[cur])\n",
    "    price_df.head()\n",
    "    price_df = price_df.astype(float)\n",
    "    price_df.plot.line(x=0, y=1)"
   ]
  },
  {
   "cell_type": "markdown",
   "metadata": {},
   "source": [
    "# Reddit comment sentiment"
   ]
  },
  {
   "cell_type": "code",
   "execution_count": 9,
   "metadata": {},
   "outputs": [],
   "source": [
    "filename = \"RC_2018-01-01to06_crypto\"\n",
    "nlp = spacy.load('en')\n",
    "occurances = {}"
   ]
  },
  {
   "cell_type": "markdown",
   "metadata": {},
   "source": [
    "Get a list of coins on Binance:"
   ]
  },
  {
   "cell_type": "markdown",
   "metadata": {},
   "source": [
    "Divide the comments based on references to coins:"
   ]
  },
  {
   "cell_type": "code",
   "execution_count": 10,
   "metadata": {},
   "outputs": [],
   "source": [
    "def new_occurances():\n",
    "    with open (filename) as f:\n",
    "        all_data = json.load(f)\n",
    "    for rc in all_data:\n",
    "        spcomment = nlp(rc['body'])\n",
    "        for symbol_line in coins:\n",
    "            symbol = symbol_line[1]\n",
    "            name = symbol_line[0]\n",
    "            has_symbol = False  \n",
    "            comment_dict = {'time': rc['created_utc'], 'body': rc['body'],\n",
    "                             'sentences' : [], 'subreddit': rc['subreddit']}\n",
    "            for sentence in spcomment.sents:\n",
    "                for word in sentence:\n",
    "                    if word.text.lower() == symbol.lower() or word.text.lower() == name.lower():\n",
    "                        has_symbol = True\n",
    "                        comment_dict['sentences'].append(sentence.text)\n",
    "                        break\n",
    "            if has_symbol:\n",
    "                if symbol in occurances:\n",
    "                    occurances[symbol].append(comment_dict)\n",
    "                else:\n",
    "                    occurances[symbol] = [comment_dict]"
   ]
  },
  {
   "cell_type": "markdown",
   "metadata": {},
   "source": [
    "Sentiment:"
   ]
  },
  {
   "cell_type": "code",
   "execution_count": 11,
   "metadata": {},
   "outputs": [],
   "source": [
    "goodwords = []\n",
    "badwords = []\n",
    "\n",
    "with open(\"good-words\") as f:\n",
    "    goodwords = [line.rstrip() for line in f]\n",
    "\n",
    "with open(\"bad-words\") as f:\n",
    "    badwords = [line.rstrip() for line in f]\n"
   ]
  },
  {
   "cell_type": "code",
   "execution_count": 12,
   "metadata": {},
   "outputs": [],
   "source": [
    "def check_sentiment(comment):\n",
    "    good = 0\n",
    "    bad = 0\n",
    "    words = comment.lower().split()\n",
    "   \n",
    "    c = Counter(words)\n",
    "    for g in goodwords:\n",
    "        if g in words:\n",
    "           \n",
    "            good += c[g]\n",
    "    for b in badwords:\n",
    "        if b in words:\n",
    "           \n",
    "            bad += c[b]\n",
    "    return good-bad, good, bad"
   ]
  },
  {
   "cell_type": "code",
   "execution_count": 13,
   "metadata": {},
   "outputs": [],
   "source": [
    "def sentiment_comments_file():\n",
    "    new_occurances()\n",
    "    for coin in occurances:\n",
    "        for comment in occurances[coin]:\n",
    "            comment['sentiment'], comment['good'], comment['bad'] = check_sentiment(comment['body'])\n",
    "\n",
    "    with open(\"sentiment_comments.json\", \"w\") as f:\n",
    "        json.dump(occurances, f)"
   ]
  },
  {
   "cell_type": "code",
   "execution_count": 14,
   "metadata": {},
   "outputs": [],
   "source": [
    "with open(\"sentiment_comments.json\") as f:\n",
    "    occurances = json.load(f)"
   ]
  },
  {
   "cell_type": "markdown",
   "metadata": {},
   "source": [
    "Plotting things:"
   ]
  },
  {
   "cell_type": "code",
   "execution_count": 15,
   "metadata": {},
   "outputs": [],
   "source": [
    "def plot_mentions(symbol_data, symbol):\n",
    "    symoccurances_df = pd.DataFrame(symbol_data)\n",
    "    symoccurances_df.plot(kind= 'bar' , x = 'time', y = 'sentiment', color='blue')"
   ]
  },
  {
   "cell_type": "code",
   "execution_count": 16,
   "metadata": {},
   "outputs": [],
   "source": [
    "def plot_length(symbol_data, symbol):\n",
    "    for c in symbol_data:\n",
    "        clen = 0\n",
    "        for sentence in c['sentences']:\n",
    "            clen += len(sentence)\n",
    "\n",
    "        c['length'] = clen\n",
    "       \n",
    "\n",
    "    df = pd.DataFrame(symbol_data)\n",
    "    \n",
    "    df.head()\n",
    "    df.plot(x = 'time', y ='length')"
   ]
  },
  {
   "cell_type": "code",
   "execution_count": null,
   "metadata": {
    "scrolled": true
   },
   "outputs": [],
   "source": []
  },
  {
   "cell_type": "code",
   "execution_count": 17,
   "metadata": {},
   "outputs": [],
   "source": [
    "def plot_sentiment(symbol_data, symbol, sentiment):\n",
    "    symoccurances_df = pd.DataFrame(symbol_data)\n",
    "#     Convert time to datetime type, it is in second format\n",
    "    symoccurances_df['time'] = symoccurances_df['time'].astype('datetime64[s]')\n",
    "    symoccurances_df.head()\n",
    "    symoccurances_df.plot(x = 'time', y = sentiment)\n",
    "    \n",
    "  "
   ]
  },
  {
   "cell_type": "code",
   "execution_count": 18,
   "metadata": {},
   "outputs": [
    {
     "data": {
      "image/png": "[encoded data removed]",
      "text/plain": [
       "<Figure size 432x288 with 1 Axes>"
      ]
     },
     "metadata": {},
     "output_type": "display_data"
    },
    {
     "data": {
      "image/png": "[encoded data removed]",
      "text/plain": [
       "<Figure size 432x288 with 1 Axes>"
      ]
     },
     "metadata": {},
     "output_type": "display_data"
    }
   ],
   "source": [
    "plot_sentiment(occurances[coin], coin, 'good')\n",
    "plot_sentiment(occurances[coin], coin, 'bad')"
   ]
  },
  {
   "cell_type": "markdown",
   "metadata": {},
   "source": [
    "Sentiment is still set to be good - bad."
   ]
  },
  {
   "cell_type": "code",
   "execution_count": 19,
   "metadata": {},
   "outputs": [],
   "source": [
    "def plot_sentiment_both(cur):\n",
    "\n",
    "    symbol_data = occurances[cur]\n",
    "    mydf = pd.DataFrame(symbol_data)\n",
    "    mydf['time'] = mydf['time'].astype('datetime64[s]')\n",
    "    mydf.head()\n",
    "\n",
    "    mydf.plot(x = 'time', y = 'sentiment')"
   ]
  },
  {
   "cell_type": "markdown",
   "metadata": {},
   "source": [
    "## Plot both good and bad on the same axes"
   ]
  },
  {
   "cell_type": "code",
   "execution_count": 20,
   "metadata": {},
   "outputs": [],
   "source": [
    "def good_and_bad_plot1(cur):\n",
    "    # Sort out the sentiment data\n",
    "    symbol_data = occurances[cur]\n",
    "    mydf = pd.DataFrame(symbol_data)\n",
    "    mydf['time'] = mydf['time'].astype('datetime64[s]')\n",
    "\n",
    "    # Plot both of them\n",
    "    plt.plot(mydf.time, mydf.good)\n",
    "    plt.plot(mydf.time, mydf.bad)\n",
    "    plt.show()"
   ]
  },
  {
   "cell_type": "code",
   "execution_count": 21,
   "metadata": {},
   "outputs": [],
   "source": [
    "def good_and_bad_plot2(cur):\n",
    "    # Sort out the sentiment data\n",
    "    symbol_data = occurances[cur]\n",
    "    mydf = pd.DataFrame(symbol_data)\n",
    "    mydf['time'] = mydf['time'].astype('datetime64[s]')\n",
    "    mydf['bad'] = mydf['bad'] * -1\n",
    "\n",
    "    # Plot both of them\n",
    "    plt.plot(mydf.time, mydf.good)\n",
    "    plt.plot(mydf.time, mydf.bad)\n",
    "    plt.show()"
   ]
  },
  {
   "cell_type": "markdown",
   "metadata": {},
   "source": [
    "## Plotting sentiment and cost\n"
   ]
  },
  {
   "cell_type": "code",
   "execution_count": 22,
   "metadata": {},
   "outputs": [],
   "source": [
    "def overlay_plot(cur):\n",
    "    # Sort out the sentiment data\n",
    "    symbol_data = occurances[cur]\n",
    "    mydf = pd.DataFrame(symbol_data)\n",
    "    mydf['time'] = mydf['time'].astype('datetime64[s]')\n",
    "\n",
    "    # Sort out cost data\n",
    "    price_df = pd.DataFrame(all_prices[cur])\n",
    "    price_df = price_df.astype(float)\n",
    "    # Convert the float into a datetime. It is in ms format.\n",
    "    price_df[0] = price_df[0].astype('datetime64[ms]')\n",
    "    # Filter it to only do this day\n",
    "    price_df[0] = price_df[(price_df[0] > '2018-01-01 00:00:00') & (price_df[0] < '2018-01-08 00:00:01')]\n",
    "\n",
    "\n",
    "    #mydf['good']\n",
    "\n",
    "\n",
    "    fig = plt.figure() # Create matplotlib figure\n",
    "    ax = fig.add_subplot(111) # Create matplotlib axes\n",
    "    ax2 = ax.twinx()\n",
    "\n",
    "    mydf['bad'] = mydf['bad'] * -1\n",
    "    mydf.plot(x='time', y='good', kind='line', ax=ax)\n",
    "    mydf.plot(x='time', y='bad', kind='line', ax=ax)\n",
    "    price_df.plot(x=0, y=1, kind='line', ax=ax2, color='red')\n",
    "    plt.title(cur)\n",
    "    plt.show()\n",
    "    \n",
    "   \n",
    "   # fig.savefig(cur + \"_overlayplot.png\")\n",
    "    #plt.close()\n",
    "  "
   ]
  },
  {
   "cell_type": "code",
   "execution_count": 23,
   "metadata": {},
   "outputs": [
    {
     "data": {
      "image/png": "[encoded data removed]",
      "text/plain": [
       "<Figure size 432x288 with 2 Axes>"
      ]
     },
     "metadata": {},
     "output_type": "display_data"
    }
   ],
   "source": [
    "#for c in coins:\n",
    " #   if c[1] in occurances and len(all_prices[c[1]]) > 0:\n",
    "  #      overlay_plot(c[1])\"\"\"\n",
    "\n",
    "overlay_plot('XRP')"
   ]
  },
  {
   "cell_type": "markdown",
   "metadata": {},
   "source": [
    "# Binning"
   ]
  },
  {
   "cell_type": "code",
   "execution_count": 24,
   "metadata": {
    "scrolled": false
   },
   "outputs": [],
   "source": [
    "occurances_binned = {}\n",
    "\n",
    "occurances_binned = occurances\n",
    "for coin in occurances_binned:\n",
    "    for c in occurances_binned[coin]:\n",
    "        rel_time = c['time'] - 1514764800\n",
    "        bin_time = rel_time //300\n",
    "        c['time_since'] = rel_time\n",
    "        c['binned_time'] = bin_time\n",
    "\n",
    "\n",
    "for coin in all_prices:\n",
    "    for c in all_prices[coin]:\n",
    "        bin_time = ((c[0]//1000) - 1514764800) /300\n",
    "        c[0] = bin_time\n"
   ]
  },
  {
   "cell_type": "code",
   "execution_count": 92,
   "metadata": {},
   "outputs": [],
   "source": [
    "def overlay_plot_bins(cur):\n",
    "    # Sort out the sentiment data\n",
    "    symbol_data = occurances_binned[cur]\n",
    "    mydf = pd.DataFrame(symbol_data)\n",
    "   \n",
    "    #mydf['binned_time'] = mydf['binned_time'].astype('datetime64[s]')\n",
    "\n",
    "    # Sort out cost data\n",
    "    price_df = pd.DataFrame(all_prices[cur])\n",
    "    price_df = price_df.astype(float)\n",
    "    # Convert the float into a datetime. It is in ms format.\n",
    "    #price_df[0] = price_df[0].astype('datetime64[ms]')\n",
    "    # Filter it to only do this day\n",
    "    #price_df[0] = price_df[(price_df[0] > '2018-01-01 00:00:00') & (price_df[0] < '2018-01-08 00:00:01')]\n",
    "\n",
    "    fig = plt.figure() # Create matplotlib figure\n",
    "    ax = fig.add_subplot(111) # Create matplotlib axes\n",
    "    ax2 = ax.twinx()\n",
    "    print(mydf)\n",
    "    mydf['bad'] = mydf['bad'] * -1\n",
    "    mydf = mydf.groupby('binned_time').sum()\n",
    "\n",
    " \n",
    "    mydf.plot( y = 'good', kind='bar',  ax=ax, color = 'blue')\n",
    "    mydf.plot( y='bad', kind='bar', ax=ax, color= 'orange')\n",
    "    price_df.plot(x=0, y=1, kind='line', ax=ax2, color='red')\n",
    "    plt.title(cur)\n",
    "    #fig.savefig(cur + \"_overlay_5min.png\")\n",
    "    plt.show()"
   ]
  },
  {
   "cell_type": "code",
   "execution_count": 93,
   "metadata": {
    "scrolled": true
   },
   "outputs": [],
   "source": [
    "#for coin in coins:\n",
    "#    if coin[1] in occurances_binned and len(all_prices[coin[1]]) > 0:\n",
    "#        overlay_plot_bins(coin[1])"
   ]
  },
  {
   "cell_type": "code",
   "execution_count": 94,
   "metadata": {},
   "outputs": [
    {
     "name": "stdout",
     "output_type": "stream",
     "text": [
      "     bad  binned_time                                               body  \\\n",
      "0      0           14                ETH ;), OMG, AION, ICON, Wanchain,    \n",
      "1      0           16                        Aion is one my biggest bags   \n",
      "2      0           16  Keep in mind vitalik is an advisor to Nuco whi...   \n",
      "3      0           17                                               Aion   \n",
      "4      0           22  I'll take a look into aion then, thanks. Long ...   \n",
      "5      0           27                       AION, ICON and Simple Token.   \n",
      "6      0           31  Everyone's always asking about low market cap ...   \n",
      "7      0           53                                          aion/icon   \n",
      "8      0           58  How does this stack up against the competition...   \n",
      "9      0           64  &gt; Vitalik is a genius who placed in nationa...   \n",
      "10     0           83  A few have discussed it. \\n\\nI like ENG, ICX, ...   \n",
      "11     0          120  ICX, XLM, XRB, REQ, AION, SUB, XBY, ETH, IOTA,...   \n",
      "12     0          144  Aside from liking the coins for their price in...   \n",
      "13     3          175  Aha I thought about that myself. How much to i...   \n",
      "14     0          179  Just discovered this sub, somehow missed it! T...   \n",
      "15     0          181  AION all the way. Testnet goes live this month...   \n",
      "16     0          186  Any thoughts on buying more ICX or diversifyin...   \n",
      "17     0          189  I'd say buy some AION because of the smaller m...   \n",
      "18     1          210  so my picks for the next couple months are qas...   \n",
      "19     1          220  Can anyone shill me on AION? Looking like a de...   \n",
      "20     0          223  I posted this in an earlier thread: Testnet go...   \n",
      "21     0          224  Nuco is uniquely positioned to capture enterpr...   \n",
      "22     1          226  haha no promises. However, if you look at my p...   \n",
      "23     0          229  The remaining supply will be slowly distribute...   \n",
      "24     5          233  1. XRB - Beats every other crypto as a payment...   \n",
      "25     0          233  I’m still buying XRB cause it’s still a steal....   \n",
      "26     0          235  Wish I found you then lol I'm on the ICX train...   \n",
      "27     1          235  &gt;Based on comments and speculation from the...   \n",
      "28     0          243  +1 for Aion - it always gets left out but it i...   \n",
      "29     0          245  COV, BLT, DRGN, AION, WTC, OMG, ETH, DNT, ENG,...   \n",
      "..   ...          ...                                                ...   \n",
      "286    0         1344  Currently holding 100% higher risk, higher rew...   \n",
      "287    1         1346  Link will definitely grow but in the crypto sp...   \n",
      "288    0         1377  Don't know much about AMB or ENG. I think req ...   \n",
      "289    0         1386                                    AION looks good   \n",
      "290    1         1391  If you want to make a long term altcoin invest...   \n",
      "291    0         1397         me too. Aion is in the mix for me as well.   \n",
      "292    0         1400  ICX, WAN, AION. They are partnered and going t...   \n",
      "293    2         1408  Looking for some advice, this is my current po...   \n",
      "294    0         1415  My top recommendations: VEN WAN ICX AION XRB A...   \n",
      "295    0         1417                                       ENG and AION   \n",
      "296    0         1431  Aion is the most anticipated blockchain 3.0 pr...   \n",
      "297    0         1434                                   IOTA, AION, ETH.   \n",
      "298    0         1435  I've whittled down my holdings to just:\\n\\nWTC...   \n",
      "299    0         1436  No REQ 0/10\\n\\nIn all seriousness I think the ...   \n",
      "300    0         1465  REQ is pumping now but if it goes back to 0007...   \n",
      "301    0         1476  what about the Aion/ICX/WAN world? direct comp...   \n",
      "302    0         1489  OMG, BAT, AION, ENG.  ETH and BCH are no brainers   \n",
      "303    1         1513  debating on if i should sell half my icx and b...   \n",
      "304    1         1528  for the past week i have been doing the follow...   \n",
      "305    0         1572                             AION looking bullish?    \n",
      "306    0         1601  Those are all very solid coins, good list. My ...   \n",
      "307    9         1620  Probably not honestly. However, I can speak fo...   \n",
      "308    9         1621  Edit: double post. Sorry. I didnt mean for it ...   \n",
      "309    0         1628  something like ICX or AION would be good for m...   \n",
      "310    0         1657  Seriously having doubts in which of the follow...   \n",
      "311    0         1660  Read this\\n\\nhttps://qz.com/1171977/ten-2018-p...   \n",
      "312    0         1673  seriously- sold off tron and had to pick where...   \n",
      "313    1         1675  Kucoin shares my biggest holding after ICX XRB...   \n",
      "314    0         1689                         REQ ICX XLM AION SALT KNC    \n",
      "315    0         1692  People have believed Icon has had a high Marke...   \n",
      "\n",
      "     good                                          sentences  sentiment  \\\n",
      "0       0               [ETH ;), OMG, AION, ICON, Wanchain,]          0   \n",
      "1       0                      [Aion is one my biggest bags]          0   \n",
      "2       0  [Keep in mind vitalik is an advisor to Nuco wh...          0   \n",
      "3       0                                             [Aion]          0   \n",
      "4       2         [I'll take a look into aion then, thanks.]          2   \n",
      "5       1                     [AION, ICON and Simple Token.]          1   \n",
      "6       2                 [check out AION, ENJ, and DIVX.  ]          2   \n",
      "7       0                                        [aion/icon]          0   \n",
      "8       0  [How does this stack up against the competitio...          0   \n",
      "9       2  [I barely have anything in Aion atm, wish I di...          2   \n",
      "10      1                       [I like ENG, ICX, and AION.]          1   \n",
      "11      0  [ICX, XLM, XRB, REQ, AION, SUB, XBY, ETH, IOTA...          0   \n",
      "12      1  [OMG, REQ, BAT, VEN/VET, AION, ADA and GNT\\n\\n...          1   \n",
      "13     10  [Other coins I'm looking into as long term buy...          7   \n",
      "14      6  [Other than Ethereum, I've never felt driven t...          6   \n",
      "15      3  [AION all the way., Vitalik Buterin is an advi...          3   \n",
      "16      1  [Any thoughts on buying more ICX or diversifyi...          1   \n",
      "17      1  [I'd say buy some AION because of the smaller ...          1   \n",
      "18      1  [so my picks for the next couple months are qa...          0   \n",
      "19      4                     [Can anyone shill me on AION?]          3   \n",
      "20      3  [Vitalik Buterin is an advisor to Nuco, AION's...          3   \n",
      "21      2  [Nuco is uniquely positioned to capture enterp...          2   \n",
      "22      1  [I'm confident that the three Interoperability...          0   \n",
      "23      3  [Given the amount of upside potential that AIO...          3   \n",
      "24     13  [10 PHD professors, 50 AI developers, partnere...          8   \n",
      "25      3  [AION, lot of people don’t realize they are pa...          3   \n",
      "26      0  [I'm on the ICX train tho and may venture into...          0   \n",
      "27      0  [Vitalik is not an advisor of Aion.\\n\\n, He do...         -1   \n",
      "28      1  [+1 for Aion - it always gets left out but it ...          1   \n",
      "29      0  [COV, BLT, DRGN, AION, WTC, OMG, ETH, DNT, ENG...          0   \n",
      "..    ...                                                ...        ...   \n",
      "286     2  [I've ranked them from highest holding to lowe...          2   \n",
      "287     2  [Personally I think ICX, WAN, &amp; AION will ...          1   \n",
      "288     1  [I think req xlm icx aion are really strong al...          1   \n",
      "289     1                                  [AION looks good]          1   \n",
      "290     9  [Research these: OMG, AION, and DBC (I love DR...          8   \n",
      "291     0               [Aion is in the mix for me as well.]          0   \n",
      "292     2                                  [ICX, WAN, AION.]          2   \n",
      "293     6  [Looking for some advice, this is my current p...          4   \n",
      "294     0  [My top recommendations: VEN WAN ICX AION XRB ...          0   \n",
      "295     0                                     [ENG and AION]          0   \n",
      "296     1  [Aion is the most anticipated blockchain 3.0 p...          1   \n",
      "297     0                                 [IOTA, AION, ETH.]          0   \n",
      "298     1  [I've whittled down my holdings to just:\\n\\nWT...          1   \n",
      "299     2  [In all seriousness I think the AION/ICX hold ...          2   \n",
      "300     1  [As already mentioned the ICX / AION combo is ...          1   \n",
      "301     0               [what about the Aion/ICX/WAN world?]          0   \n",
      "302     0                           [OMG, BAT, AION, ENG.  ]          0   \n",
      "303     1  [debating on if i should sell half my icx and ...          0   \n",
      "304     1  [for the past week i have been doing the follo...          0   \n",
      "305     0                            [AION looking bullish?]          0   \n",
      "306     3  [My favs from that would be PRL, DRGN, LINK, B...          3   \n",
      "307    46  [AION is part of ICX's alliance If I am not mi...         37   \n",
      "308    46  [AION is part of ICX's alliance If I am not mi...         37   \n",
      "309     2  [something like ICX or AION would be good for ...          2   \n",
      "310     0                                [OMG - LISK - AION]          0   \n",
      "311     0  [Read this\\n\\nhttps://qz.com/1171977/ten-2018-...          0   \n",
      "312     1  [seriously- sold off tron and had to pick wher...          1   \n",
      "313     2  [Kucoin shares my biggest holding after ICX XR...          1   \n",
      "314     0                        [REQ ICX XLM AION SALT KNC]          0   \n",
      "315     4  [ICX, AION and WAN are working together to ach...          4   \n",
      "\n",
      "            subreddit        time  time_since  \n",
      "0           ethtrader  1514769027        4227  \n",
      "1      CryptoCurrency  1514769673        4873  \n",
      "2      CryptoCurrency  1514769811        5011  \n",
      "3      CryptoCurrency  1514769904        5104  \n",
      "4    CryptoTechnology  1514771591        6791  \n",
      "5             altcoin  1514773183        8383  \n",
      "6       CryptoMarkets  1514774302        9502  \n",
      "7      CryptoCurrency  1514780961       16161  \n",
      "8      CryptoCurrency  1514782248       17448  \n",
      "9      CryptoCurrency  1514784060       19260  \n",
      "10     CryptoCurrency  1514789957       25157  \n",
      "11     CryptoCurrency  1514801001       36201  \n",
      "12          ethtrader  1514808265       43465  \n",
      "13     CryptoCurrency  1514817540       52740  \n",
      "14            altcoin  1514818665       53865  \n",
      "15          ethtrader  1514819172       54372  \n",
      "16          ethtrader  1514820879       56079  \n",
      "17          ethtrader  1514821627       56827  \n",
      "18          ethtrader  1514828019       63219  \n",
      "19          ethtrader  1514831014       66214  \n",
      "20          ethtrader  1514831772       66972  \n",
      "21          ethtrader  1514832130       67330  \n",
      "22          ethtrader  1514832793       67993  \n",
      "23          ethtrader  1514833580       68780  \n",
      "24     CryptoCurrency  1514834707       69907  \n",
      "25     CryptoCurrency  1514834984       70184  \n",
      "26          ethtrader  1514835423       70623  \n",
      "27     CryptoCurrency  1514835596       70796  \n",
      "28     CryptoCurrency  1514837750       72950  \n",
      "29     CryptoCurrency  1514838403       73603  \n",
      "..                ...         ...         ...  \n",
      "286    CryptoCurrency  1515168231      403431  \n",
      "287         ethtrader  1515168847      404047  \n",
      "288         ethtrader  1515178076      413276  \n",
      "289    CryptoCurrency  1515180796      415996  \n",
      "290    CryptoCurrency  1515182397      417597  \n",
      "291         ethtrader  1515183921      419121  \n",
      "292    CryptoCurrency  1515185035      420235  \n",
      "293         ethtrader  1515187224      422424  \n",
      "294    CryptoCurrency  1515189310      424510  \n",
      "295    CryptoCurrency  1515189976      425176  \n",
      "296         ethtrader  1515194132      429332  \n",
      "297    CryptoCurrency  1515195279      430479  \n",
      "298         ethtrader  1515195528      430728  \n",
      "299         ethtrader  1515195786      430986  \n",
      "300         ethtrader  1515204581      439781  \n",
      "301    CryptoCurrency  1515207783      442983  \n",
      "302           altcoin  1515211631      446831  \n",
      "303         ethtrader  1515218783      453983  \n",
      "304    CryptoCurrency  1515223378      458578  \n",
      "305         ethtrader  1515236614      471814  \n",
      "306    CryptoCurrency  1515245291      480491  \n",
      "307    CryptoCurrency  1515251061      486261  \n",
      "308    CryptoCurrency  1515251117      486317  \n",
      "309         ethtrader  1515253364      488564  \n",
      "310    CryptoCurrency  1515261985      497185  \n",
      "311    CryptoCurrency  1515262962      498162  \n",
      "312         ethtrader  1515266744      501944  \n",
      "313    CryptoCurrency  1515267318      502518  \n",
      "314         ethtrader  1515271708      506908  \n",
      "315     CryptoMarkets  1515272555      507755  \n",
      "\n",
      "[316 rows x 9 columns]\n",
      "             bad  good  sentiment        time  time_since\n",
      "binned_time                                              \n",
      "14             0     0          0  1514769027        4227\n",
      "16             0     0          0  3029539484        9884\n",
      "17             0     0          0  1514769904        5104\n",
      "22             0     2          2  1514771591        6791\n",
      "27             0     1          1  1514773183        8383\n",
      "31             0     2          2  1514774302        9502\n",
      "53             0     0          0  1514780961       16161\n",
      "58             0     0          0  1514782248       17448\n",
      "64             0     2          2  1514784060       19260\n",
      "83             0     1          1  1514789957       25157\n",
      "120            0     0          0  1514801001       36201\n",
      "144            0     1          1  1514808265       43465\n",
      "175           -3    10          7  1514817540       52740\n",
      "179            0     6          6  1514818665       53865\n",
      "181            0     3          3  1514819172       54372\n",
      "186            0     1          1  1514820879       56079\n",
      "189            0     1          1  1514821627       56827\n",
      "210           -1     1          0  1514828019       63219\n",
      "220           -1     4          3  1514831014       66214\n",
      "223            0     3          3  1514831772       66972\n",
      "224            0     2          2  1514832130       67330\n",
      "226           -1     1          0  1514832793       67993\n",
      "229            0     3          3  1514833580       68780\n",
      "233           -5    16         11  3029669691      140091\n",
      "235           -1     0         -1  3029671019      141419\n",
      "243            0     1          1  1514837750       72950\n",
      "245            0     0          0  1514838403       73603\n",
      "249            0     1          1  1514839625       74825\n",
      "250            0     1          1  3029679801      150201\n",
      "252           -1     0         -1  1514840482       75682\n",
      "...          ...   ...        ...         ...         ...\n",
      "1344           0     2          2  1515168231      403431\n",
      "1346          -1     2          1  1515168847      404047\n",
      "1377           0     1          1  1515178076      413276\n",
      "1386           0     1          1  1515180796      415996\n",
      "1391          -1     9          8  1515182397      417597\n",
      "1397           0     0          0  1515183921      419121\n",
      "1400           0     2          2  1515185035      420235\n",
      "1408          -2     6          4  1515187224      422424\n",
      "1415           0     0          0  1515189310      424510\n",
      "1417           0     0          0  1515189976      425176\n",
      "1431           0     1          1  1515194132      429332\n",
      "1434           0     0          0  1515195279      430479\n",
      "1435           0     1          1  1515195528      430728\n",
      "1436           0     2          2  1515195786      430986\n",
      "1465           0     1          1  1515204581      439781\n",
      "1476           0     0          0  1515207783      442983\n",
      "1489           0     0          0  1515211631      446831\n",
      "1513          -1     1          0  1515218783      453983\n",
      "1528          -1     1          0  1515223378      458578\n",
      "1572           0     0          0  1515236614      471814\n",
      "1601           0     3          3  1515245291      480491\n",
      "1620          -9    46         37  1515251061      486261\n",
      "1621          -9    46         37  1515251117      486317\n",
      "1628           0     2          2  1515253364      488564\n",
      "1657           0     0          0  1515261985      497185\n",
      "1660           0     0          0  1515262962      498162\n",
      "1673           0     1          1  1515266744      501944\n",
      "1675          -1     2          1  1515267318      502518\n",
      "1689           0     0          0  1515271708      506908\n",
      "1692           0     4          4  1515272555      507755\n",
      "\n",
      "[263 rows x 5 columns]\n"
     ]
    },
    {
     "data": {
      "image/png": "[encoded data removed]",
      "text/plain": [
       "<Figure size 432x288 with 2 Axes>"
      ]
     },
     "metadata": {},
     "output_type": "display_data"
    }
   ],
   "source": [
    "overlay_plot_bins(\"AION\")"
   ]
  },
  {
   "cell_type": "code",
   "execution_count": null,
   "metadata": {},
   "outputs": [],
   "source": []
  }
 ],
 "metadata": {
  "kernelspec": {
   "display_name": "Python 3",
   "language": "python",
   "name": "python3"
  },
  "language_info": {
   "codemirror_mode": {
    "name": "ipython",
    "version": 3
   },
   "file_extension": ".py",
   "mimetype": "text/x-python",
   "name": "python",
   "nbconvert_exporter": "python",
   "pygments_lexer": "ipython3",
   "version": "3.6.5"
  }
 },
 "nbformat": 4,
 "nbformat_minor": 2
}
