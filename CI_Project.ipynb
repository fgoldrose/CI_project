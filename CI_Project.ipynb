{
 "cells": [
  {
   "cell_type": "code",
   "execution_count": 1,
   "metadata": {
    "slideshow": {
     "slide_type": "-"
    }
   },
   "outputs": [],
   "source": [
    "import json\n",
    "import csv\n",
    "import numpy\n",
    "import pytz\n",
    "import pandas as pd\n",
    "from binance.client import Client\n",
    "import spacy\n",
    "import matplotlib\n",
    "import numpy as np\n",
    "import matplotlib.pyplot as plt\n",
    "from collections import Counter\n",
    "import datetime\n",
    "%matplotlib inline"
   ]
  },
  {
   "cell_type": "markdown",
   "metadata": {},
   "source": [
    "# Get the coin price data from Binance."
   ]
  },
  {
   "cell_type": "markdown",
   "metadata": {},
   "source": [
    "Set up the Binance API to get the data we need."
   ]
  },
  {
   "cell_type": "code",
   "execution_count": 2,
   "metadata": {},
   "outputs": [],
   "source": [
    "client = Client(\"\", \"\")\n",
    "\n",
    "interval = Client.KLINE_INTERVAL_1MINUTE\n",
    "start = \"1 January, 2018\"\n",
    "end = \"1 April, 2018\""
   ]
  },
  {
   "cell_type": "markdown",
   "metadata": {},
   "source": [
    "The following function will get the historical price data for a given symbol (e.g. ETH) over the time interval."
   ]
  },
  {
   "cell_type": "code",
   "execution_count": 3,
   "metadata": {},
   "outputs": [],
   "source": [
    "def get_price_data(symbol):\n",
    "    sym = symbol + \"BTC\"\n",
    "    klines = client.get_historical_klines(sym, interval, start, end)\n",
    "\n",
    "    j = []\n",
    "    for t in klines:\n",
    "        row = [t[6], t[4], t[2], t[3], t[5], t[8]]\n",
    "        j.append(row)\n",
    "    return j"
   ]
  },
  {
   "cell_type": "markdown",
   "metadata": {},
   "source": [
    "Each output has the follow structure\n",
    "[Close time, Close price, High, Low, Volume, Number of trades]"
   ]
  },
  {
   "cell_type": "code",
   "execution_count": 4,
   "metadata": {
    "scrolled": true
   },
   "outputs": [],
   "source": [
    "eth_price = get_price_data('ETH')"
   ]
  },
  {
   "cell_type": "code",
   "execution_count": 5,
   "metadata": {},
   "outputs": [
    {
     "data": {
      "text/plain": [
       "<matplotlib.axes._subplots.AxesSubplot at 0x115120048>"
      ]
     },
     "execution_count": 5,
     "metadata": {},
     "output_type": "execute_result"
    },
    {
     "data": {
      "image/png": "[encoded data removed]",
      "text/plain": [
       "<Figure size 432x288 with 1 Axes>"
      ]
     },
     "metadata": {},
     "output_type": "display_data"
    }
   ],
   "source": [
    "price_df = pd.DataFrame(eth_price)\n",
    "price_df.head()\n",
    "price_df = price_df.astype(float)\n",
    "price_df.plot.line(x=0, y=1)"
   ]
  },
  {
   "cell_type": "markdown",
   "metadata": {},
   "source": [
    "# Reddit comment sentiment"
   ]
  },
  {
   "cell_type": "code",
   "execution_count": 6,
   "metadata": {},
   "outputs": [],
   "source": [
    "filename = \"../RC_2018-01-06_crypto\"\n",
    "coinfile = \"coins_on_binance.csv\"\n",
    "nlp = spacy.load('en')\n",
    "occurances = {}"
   ]
  },
  {
   "cell_type": "markdown",
   "metadata": {},
   "source": [
    "Get a list of coins on Binance:"
   ]
  },
  {
   "cell_type": "code",
   "execution_count": 7,
   "metadata": {},
   "outputs": [],
   "source": [
    "with open(coinfile) as cf:\n",
    "        rdr = csv.reader(cf)\n",
    "        coins = []\n",
    "        for row in rdr:\n",
    "            coins.append(row)"
   ]
  },
  {
   "cell_type": "markdown",
   "metadata": {},
   "source": [
    "Divide the comments based on references to coins:"
   ]
  },
  {
   "cell_type": "code",
   "execution_count": 8,
   "metadata": {},
   "outputs": [],
   "source": [
    "with open (filename) as f:\n",
    "    all_data = json.load(f)\n",
    "for rc in all_data:\n",
    "    spcomment = nlp(rc['body'])\n",
    "    for symbol_line in coins:\n",
    "        symbol = symbol_line[1]\n",
    "        name = symbol_line[0]\n",
    "        has_symbol = False\n",
    "        comment_dict = {'time': rc['created_utc'], 'body': rc['body'],\n",
    "                        'sentences' : [], 'subreddit': rc['subreddit']}\n",
    "        for sentence in spcomment.sents:\n",
    "            for word in sentence:\n",
    "                if word.text.lower() == symbol.lower() or word.text.lower() == name.lower():\n",
    "                    has_symbol = True\n",
    "                    comment_dict['sentences'].append(sentence.text)\n",
    "                    break\n",
    "        if has_symbol:\n",
    "            if symbol in occurances:\n",
    "                occurances[symbol].append(comment_dict)\n",
    "            else:\n",
    "                occurances[symbol] = [comment_dict]"
   ]
  },
  {
   "cell_type": "markdown",
   "metadata": {},
   "source": [
    "Sentiment:"
   ]
  },
  {
   "cell_type": "code",
   "execution_count": 35,
   "metadata": {},
   "outputs": [],
   "source": [
    "goodwords = []\n",
    "badwords = []\n",
    "\n",
    "with open(\"good-words\") as f:\n",
    "    goodwords = [line.rstrip() for line in f]\n",
    "\n",
    "with open(\"bad-words\") as f:\n",
    "    badwords = [line.rstrip() for line in f]\n"
   ]
  },
  {
   "cell_type": "code",
   "execution_count": 39,
   "metadata": {},
   "outputs": [],
   "source": [
    "def check_sentiment(comment):\n",
    "    good = 0\n",
    "    bad = 0\n",
    "    words = comment.lower().split()\n",
    "   \n",
    "    c = Counter(words)\n",
    "    for g in goodwords:\n",
    "        if g in words:\n",
    "           \n",
    "            good += c[g]\n",
    "    for b in badwords:\n",
    "        if b in words:\n",
    "           \n",
    "            bad += c[b]\n",
    "    return good - bad"
   ]
  },
  {
   "cell_type": "code",
   "execution_count": null,
   "metadata": {},
   "outputs": [],
   "source": []
  },
  {
   "cell_type": "code",
   "execution_count": 40,
   "metadata": {},
   "outputs": [],
   "source": [
    "for coin in occurances:\n",
    "    for comment in occurances[coin]:\n",
    "        comment['sentiment'] = check_sentiment(comment['body'])"
   ]
  },
  {
   "cell_type": "markdown",
   "metadata": {},
   "source": [
    "Plotting things:"
   ]
  },
  {
   "cell_type": "code",
   "execution_count": 41,
   "metadata": {},
   "outputs": [],
   "source": [
    "def plot_mentions(symbol_data, symbol):\n",
    "    symoccurances_df = pd.DataFrame(symbol_data)\n",
    "    symoccurances_df.head()\n",
    "    symoccurances_df.plot(kind= 'hist', bins = 300, x = 'time')"
   ]
  },
  {
   "cell_type": "code",
   "execution_count": 43,
   "metadata": {},
   "outputs": [],
   "source": [
    "def plot_length(symbol_data, symbol):\n",
    "    for c in symbol_data:\n",
    "        clen = 0\n",
    "        for sentence in c['sentences']:\n",
    "            clen += len(sentence)\n",
    "\n",
    "        c['length'] = clen\n",
    "       \n",
    "\n",
    "    df = pd.DataFrame(symbol_data)\n",
    "    df.head()\n",
    "    df.plot.bar(x = 'time', y ='length', title=symbol, color='blue')"
   ]
  },
  {
   "cell_type": "code",
   "execution_count": 44,
   "metadata": {
    "scrolled": true
   },
   "outputs": [
    {
     "data": {
      "image/png": "[encoded data removed]",
      "text/plain": [
       "<Figure size 432x288 with 1 Axes>"
      ]
     },
     "metadata": {},
     "output_type": "display_data"
    }
   ],
   "source": [
    "plot_length(occurances['ETH'], 'ETH')"
   ]
  },
  {
   "cell_type": "code",
   "execution_count": 50,
   "metadata": {},
   "outputs": [],
   "source": [
    "def plot_sentiment(symbol_data, symbol):\n",
    "    symoccurances_df = pd.DataFrame(symbol_data)\n",
    "    symoccurances_df.head()\n",
    "    symoccurances_df.plot(x = 'time', y = 'sentiment')"
   ]
  },
  {
   "cell_type": "code",
   "execution_count": 51,
   "metadata": {},
   "outputs": [
    {
     "data": {
      "image/png": "[encoded data removed]",
      "text/plain": [
       "<Figure size 432x288 with 1 Axes>"
      ]
     },
     "metadata": {},
     "output_type": "display_data"
    }
   ],
   "source": [
    "plot_sentiment(occurances['ETH'], 'ETH')"
   ]
  },
  {
   "cell_type": "code",
   "execution_count": null,
   "metadata": {},
   "outputs": [],
   "source": []
  }
 ],
 "metadata": {
  "kernelspec": {
   "display_name": "Python 3",
   "language": "python",
   "name": "python3"
  },
  "language_info": {
   "codemirror_mode": {
    "name": "ipython",
    "version": 3
   },
   "file_extension": ".py",
   "mimetype": "text/x-python",
   "name": "python",
   "nbconvert_exporter": "python",
   "pygments_lexer": "ipython3",
   "version": "3.6.5"
  }
 },
 "nbformat": 4,
 "nbformat_minor": 2
}
