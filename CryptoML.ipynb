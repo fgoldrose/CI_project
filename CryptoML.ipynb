{
 "cells": [
  {
   "cell_type": "markdown",
   "metadata": {},
   "source": [
    "# CrypoML\n",
    "\n",
    "Train a SVM classifier on some senitment data. Our goal is to see if we can use sentiment and other features to predict whether the price will go up or down. "
   ]
  },
  {
   "cell_type": "markdown",
   "metadata": {},
   "source": [
    "Import some things"
   ]
  },
  {
   "cell_type": "code",
   "execution_count": 1,
   "metadata": {},
   "outputs": [],
   "source": [
    "from sklearn.model_selection import train_test_split\n",
    "from sklearn import svm\n",
    "import pandas as pd\n",
    "import numpy as np\n",
    "import json"
   ]
  },
  {
   "cell_type": "markdown",
   "metadata": {},
   "source": [
    "Wrangle some data"
   ]
  },
  {
   "cell_type": "code",
   "execution_count": 2,
   "metadata": {},
   "outputs": [],
   "source": [
    "with open(\"comments_with_comprehend.json\") as f:\n",
    "    occurances = json.load(f)\n",
    "with open(\"all_prices.json\") as f:\n",
    "    all_prices = json.load(f)\n",
    "\n",
    "def dict_prices():\n",
    "    d = {}\n",
    "    for coin in all_prices:\n",
    "        if(len(all_prices[coin]) > 0):\n",
    "            p = []\n",
    "            for c in all_prices[coin]:\n",
    "                p.append({'time': c[0]//1000, 'price': c[1]})\n",
    "            d[coin] = p\n",
    "        \n",
    "    return d\n",
    "\n",
    "prices = dict_prices()"
   ]
  },
  {
   "cell_type": "code",
   "execution_count": 3,
   "metadata": {
    "scrolled": true
   },
   "outputs": [],
   "source": [
    "cur = 'AION'\n",
    "binsize = 60\n",
    "\n",
    "# Throw together some test data for now\n",
    "headers = ['total_comments', 'good', 'bad', 'aws_good', 'aws_bad']\n",
    "labels = ['up', 'down']\n",
    "\n",
    "\n",
    "comments =  occurances[cur]\n",
    "binned = {}\n",
    "for c in comments:\n",
    "    cs = c['comprehend_scores']\n",
    "    bin_time = (c['time'] - 1514764800) //binsize\n",
    "    if bin_time in binned:\n",
    "        binned[bin_time]['good'] += c['good']\n",
    "        binned[bin_time]['bad'] += c['bad']\n",
    "        binned[bin_time]['length'] += c['length']\n",
    "        binned[bin_time]['tot_len'] += c['tot_len']\n",
    "        binned[bin_time]['aws_good'] += cs['Positive']\n",
    "        binned[bin_time]['aws_bad'] += cs['Negative']\n",
    "        binned[bin_time]['aws_neutral'] += cs['Neutral']\n",
    "        binned[bin_time]['aws_mixed'] += cs['Mixed']\n",
    "        binned[bin_time]['total_comments'] += 1\n",
    "\n",
    "    else:\n",
    "        binned[bin_time] = {'binned_time' : bin_time, 'good': c['good'], 'bad': c['bad'], 'length': c['length'], 'tot_len' : c['tot_len'], 'aws_good': cs['Positive'], 'aws_bad': cs['Negative'], 'aws_neutral': cs['Neutral'], 'aws_mixed' : cs['Mixed'], 'total_comments': 1}\n",
    "        \n",
    "for time in range(max(binned, key=int)):\n",
    "    if time not in binned:\n",
    "        binned[time] = {'binned_time' : time, 'good': 0, 'bad': 0, 'length': 0, 'tot_len' : 0, 'aws_good': 0, 'aws_bad': 0, 'aws_neutral': 0, 'aws_mixed' : 0, 'total_comments': 0}\n",
    "\n",
    "b_list = []\n",
    "for b in binned:\n",
    "    b_list.append(binned[b])\n",
    "\n",
    "\n",
    "bin_prices1 = {}\n",
    "bin_price = {}\n",
    "\n",
    "for c in prices[cur]:\n",
    "    bin_time = (c['time'] - 1514764800) //binsize\n",
    "    c['binned_time'] = bin_time\n",
    "    if bin_time in bin_prices1:\n",
    "        bin_prices1[bin_time]['price'] += float(c['price'])\n",
    "        bin_prices1[bin_time]['num'] +=1\n",
    "    else:\n",
    "        bin_prices1[bin_time] = {'price': float(c['price']), 'num':1 }\n",
    "\n",
    "for c in bin_prices1:\n",
    "    bin_price[c] = bin_prices1[c]['price']/bin_prices1[c]['num']\n",
    "\n",
    "target = []\n",
    "for c in bin_price:\n",
    "    if c+1 in bin_price:\n",
    "        if bin_price[c] < bin_price[c+1]:\n",
    "            target.append('up')\n",
    "        else:\n",
    "            target.append('down')\n",
    "\n",
    "df_data = pd.DataFrame(b_list, columns = headers).head(len(target))\n",
    "df_target = pd.DataFrame()\n",
    "df_target['label'] = target\n",
    "df_target = df_target.head(len(b_list))"
   ]
  },
  {
   "cell_type": "markdown",
   "metadata": {},
   "source": [
    "Split the data into test and training sets"
   ]
  },
  {
   "cell_type": "code",
   "execution_count": 4,
   "metadata": {},
   "outputs": [],
   "source": [
    "X_train, X_test, y_train, y_test = train_test_split(df_data, df_target, test_size=0.33)"
   ]
  },
  {
   "cell_type": "markdown",
   "metadata": {},
   "source": [
    "Build the model\n",
    "\n",
    "Note: I have no idea what kernel to use."
   ]
  },
  {
   "cell_type": "code",
   "execution_count": 5,
   "metadata": {},
   "outputs": [],
   "source": [
    "clf = svm.SVC(kernel='linear', C=1).fit(X_train, y_train['label'])"
   ]
  },
  {
   "cell_type": "markdown",
   "metadata": {},
   "source": [
    "Check how well it goes on the test data"
   ]
  },
  {
   "cell_type": "code",
   "execution_count": 6,
   "metadata": {},
   "outputs": [
    {
     "data": {
      "text/plain": [
       "0.5753669889008235"
      ]
     },
     "execution_count": 6,
     "metadata": {},
     "output_type": "execute_result"
    }
   ],
   "source": [
    "clf.score(X_test, y_test)"
   ]
  },
  {
   "cell_type": "markdown",
   "metadata": {},
   "source": [
    "Try other kernels?\n",
    "- linear\n",
    "- polynomial\n",
    "- rbf\n",
    "- sigmoid"
   ]
  },
  {
   "cell_type": "code",
   "execution_count": 7,
   "metadata": {},
   "outputs": [],
   "source": [
    "clf2 = svm.SVC(kernel='rbf', C=1).fit(X_train, y_train['label'])"
   ]
  },
  {
   "cell_type": "code",
   "execution_count": 8,
   "metadata": {},
   "outputs": [
    {
     "data": {
      "text/plain": [
       "0.5753669889008235"
      ]
     },
     "execution_count": 8,
     "metadata": {},
     "output_type": "execute_result"
    }
   ],
   "source": [
    "clf2.score(X_test, y_test)"
   ]
  },
  {
   "cell_type": "code",
   "execution_count": 9,
   "metadata": {},
   "outputs": [],
   "source": [
    "clf3 = svm.SVC(kernel='sigmoid', C=1).fit(X_train, y_train['label'])"
   ]
  },
  {
   "cell_type": "code",
   "execution_count": 10,
   "metadata": {},
   "outputs": [
    {
     "data": {
      "text/plain": [
       "0.5714285714285714"
      ]
     },
     "execution_count": 10,
     "metadata": {},
     "output_type": "execute_result"
    }
   ],
   "source": [
    "clf3.score(X_test, y_test)"
   ]
  },
  {
   "cell_type": "code",
   "execution_count": 11,
   "metadata": {},
   "outputs": [],
   "source": [
    "#clf4 = svm.SVC(kernel='poly', C=1).fit(X_train, y_train['label'])"
   ]
  },
  {
   "cell_type": "code",
   "execution_count": 12,
   "metadata": {},
   "outputs": [],
   "source": [
    "#clf4.score(X_test, y_test)"
   ]
  }
 ],
 "metadata": {
  "kernelspec": {
   "display_name": "Python 3",
   "language": "python",
   "name": "python3"
  },
  "language_info": {
   "codemirror_mode": {
    "name": "ipython",
    "version": 3
   },
   "file_extension": ".py",
   "mimetype": "text/x-python",
   "name": "python",
   "nbconvert_exporter": "python",
   "pygments_lexer": "ipython3",
   "version": "3.6.5"
  }
 },
 "nbformat": 4,
 "nbformat_minor": 2
}
