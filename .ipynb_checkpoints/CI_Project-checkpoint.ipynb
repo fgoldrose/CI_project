{
 "cells": [
  {
   "cell_type": "code",
   "execution_count": 1,
   "metadata": {
    "slideshow": {
     "slide_type": "-"
    }
   },
   "outputs": [],
   "source": [
    "import json\n",
    "import csv\n",
    "import numpy\n",
    "import pytz\n",
    "import pandas as pd\n",
    "from binance.client import Client\n",
    "import spacy\n",
    "import matplotlib\n",
    "import numpy as np\n",
    "import matplotlib.pyplot as plt\n",
    "from collections import Counter\n",
    "import datetime\n",
    "\n",
    "%matplotlib inline"
   ]
  },
  {
   "cell_type": "code",
   "execution_count": 2,
   "metadata": {},
   "outputs": [],
   "source": [
    "coin = 'EOS' #getting plots for this coin."
   ]
  },
  {
   "cell_type": "markdown",
   "metadata": {},
   "source": [
    "# Get the coin price data from Binance."
   ]
  },
  {
   "cell_type": "code",
   "execution_count": 3,
   "metadata": {},
   "outputs": [],
   "source": [
    "coinfile = \"coins_on_binance.csv\"\n",
    "with open(coinfile) as cf:\n",
    "        rdr = csv.reader(cf)\n",
    "        coins = []\n",
    "        for row in rdr:\n",
    "            coins.append(row)"
   ]
  },
  {
   "cell_type": "markdown",
   "metadata": {},
   "source": [
    "Set up the Binance API to get the data we need."
   ]
  },
  {
   "cell_type": "code",
   "execution_count": 4,
   "metadata": {},
   "outputs": [],
   "source": [
    "client = Client(\"\", \"\")\n",
    "\n",
    "interval = Client.KLINE_INTERVAL_1MINUTE\n",
    "start = \"1 January, 2018\"\n",
    "end = \"7 January, 2018\""
   ]
  },
  {
   "cell_type": "markdown",
   "metadata": {},
   "source": [
    "The following function will get the historical price data for a given symbol (e.g. ETH) over the time interval."
   ]
  },
  {
   "cell_type": "code",
   "execution_count": 5,
   "metadata": {},
   "outputs": [],
   "source": [
    "def get_price_data(symbol):\n",
    "    sym = symbol + \"BTC\"\n",
    "    klines = client.get_historical_klines(sym, interval, start, end)\n",
    "\n",
    "    j = []\n",
    "    for t in klines:\n",
    "        row = [t[6], t[4], t[2], t[3], t[5], t[8]]\n",
    "        j.append(row)\n",
    "    return j"
   ]
  },
  {
   "cell_type": "markdown",
   "metadata": {},
   "source": [
    "Each output has the follow structure\n",
    "[Close time, Close price, High, Low, Volume, Number of trades]"
   ]
  },
  {
   "cell_type": "code",
   "execution_count": 6,
   "metadata": {},
   "outputs": [],
   "source": [
    "def get_all_price_data():\n",
    "    prices = {}\n",
    "    for c in coins:\n",
    "        row = get_price_data(c[1])\n",
    "        prices[c[1]] = row\n",
    "    with open(\"all_prices.json\", \"w\") as f:\n",
    "        json.dump(prices, f)"
   ]
  },
  {
   "cell_type": "code",
   "execution_count": 7,
   "metadata": {},
   "outputs": [],
   "source": [
    "with open(\"all_prices.json\") as f:\n",
    "    all_prices = json.load(f)"
   ]
  },
  {
   "cell_type": "code",
   "execution_count": 8,
   "metadata": {},
   "outputs": [],
   "source": [
    "def plot_price(cur):\n",
    "    price_df = pd.DataFrame(all_prices[cur])\n",
    "    price_df.head()\n",
    "    price_df = price_df.astype(float)\n",
    "    price_df.plot.line(x=0, y=1)"
   ]
  },
  {
   "cell_type": "markdown",
   "metadata": {},
   "source": [
    "# Reddit comment sentiment"
   ]
  },
  {
   "cell_type": "code",
   "execution_count": 9,
   "metadata": {},
   "outputs": [],
   "source": [
    "filename = \"RC_2018-01-01to06_crypto\"\n",
    "nlp = spacy.load('en')\n",
    "occurances = {}"
   ]
  },
  {
   "cell_type": "markdown",
   "metadata": {},
   "source": [
    "Get a list of coins on Binance:"
   ]
  },
  {
   "cell_type": "markdown",
   "metadata": {},
   "source": [
    "Divide the comments based on references to coins:"
   ]
  },
  {
   "cell_type": "code",
   "execution_count": 10,
   "metadata": {},
   "outputs": [],
   "source": [
    "def new_occurances():\n",
    "    with open (filename) as f:\n",
    "        all_data = json.load(f)\n",
    "    for rc in all_data:\n",
    "        spcomment = nlp(rc['body'])\n",
    "        for symbol_line in coins:\n",
    "            symbol = symbol_line[1]\n",
    "            name = symbol_line[0]\n",
    "            has_symbol = False  \n",
    "            comment_dict = {'time': rc['created_utc'], 'body': rc['body'],\n",
    "                             'sentences' : [], 'subreddit': rc['subreddit']}\n",
    "            for sentence in spcomment.sents:\n",
    "                for word in sentence:\n",
    "                    if word.text.lower() == symbol.lower() or word.text.lower() == name.lower():\n",
    "                        has_symbol = True\n",
    "                        comment_dict['sentences'].append(sentence.text)\n",
    "                        break\n",
    "            if has_symbol:\n",
    "                if symbol in occurances:\n",
    "                    occurances[symbol].append(comment_dict)\n",
    "                else:\n",
    "                    occurances[symbol] = [comment_dict]"
   ]
  },
  {
   "cell_type": "markdown",
   "metadata": {},
   "source": [
    "Sentiment:"
   ]
  },
  {
   "cell_type": "code",
   "execution_count": 11,
   "metadata": {},
   "outputs": [],
   "source": [
    "goodwords = []\n",
    "badwords = []\n",
    "\n",
    "with open(\"good-words\") as f:\n",
    "    goodwords = [line.rstrip() for line in f]\n",
    "\n",
    "with open(\"bad-words\") as f:\n",
    "    badwords = [line.rstrip() for line in f]\n"
   ]
  },
  {
   "cell_type": "code",
   "execution_count": 12,
   "metadata": {},
   "outputs": [],
   "source": [
    "def check_sentiment(comment):\n",
    "    good = 0\n",
    "    bad = 0\n",
    "    words = comment.lower().split()\n",
    "   \n",
    "    c = Counter(words)\n",
    "    for g in goodwords:\n",
    "        if g in words:\n",
    "           \n",
    "            good += c[g]\n",
    "    for b in badwords:\n",
    "        if b in words:\n",
    "           \n",
    "            bad += c[b]\n",
    "    return good-bad, good, bad"
   ]
  },
  {
   "cell_type": "code",
   "execution_count": 13,
   "metadata": {},
   "outputs": [],
   "source": [
    "def sentiment_comments_file():\n",
    "    new_occurances()\n",
    "    for coin in occurances:\n",
    "        for comment in occurances[coin]:\n",
    "            comment['sentiment'], comment['good'], comment['bad'] = check_sentiment(comment['body'])\n",
    "\n",
    "    with open(\"sentiment_comments.json\", \"w\") as f:\n",
    "        json.dump(occurances, f)"
   ]
  },
  {
   "cell_type": "code",
   "execution_count": 14,
   "metadata": {},
   "outputs": [],
   "source": [
    "with open(\"sentiment_comments.json\") as f:\n",
    "    occurances = json.load(f)"
   ]
  },
  {
   "cell_type": "markdown",
   "metadata": {},
   "source": [
    "Plotting things:"
   ]
  },
  {
   "cell_type": "code",
   "execution_count": 15,
   "metadata": {},
   "outputs": [],
   "source": [
    "def plot_mentions(symbol_data, symbol):\n",
    "    symoccurances_df = pd.DataFrame(symbol_data)\n",
    "    symoccurances_df.plot(kind= 'bar' , x = 'time', y = 'sentiment', color='blue')"
   ]
  },
  {
   "cell_type": "code",
   "execution_count": 16,
   "metadata": {},
   "outputs": [],
   "source": [
    "def plot_length(symbol_data, symbol):\n",
    "    for c in symbol_data:\n",
    "        clen = 0\n",
    "        for sentence in c['sentences']:\n",
    "            clen += len(sentence)\n",
    "\n",
    "        c['length'] = clen\n",
    "       \n",
    "\n",
    "    df = pd.DataFrame(symbol_data)\n",
    "    \n",
    "    df.head()\n",
    "    df.plot(x = 'time', y ='length')"
   ]
  },
  {
   "cell_type": "code",
   "execution_count": null,
   "metadata": {
    "scrolled": true
   },
   "outputs": [],
   "source": []
  },
  {
   "cell_type": "code",
   "execution_count": 17,
   "metadata": {},
   "outputs": [],
   "source": [
    "def plot_sentiment(symbol_data, symbol, sentiment):\n",
    "    symoccurances_df = pd.DataFrame(symbol_data)\n",
    "#     Convert time to datetime type, it is in second format\n",
    "    symoccurances_df['time'] = symoccurances_df['time'].astype('datetime64[s]')\n",
    "    symoccurances_df.head()\n",
    "    symoccurances_df.plot(x = 'time', y = sentiment)\n",
    "    \n",
    "  "
   ]
  },
  {
   "cell_type": "code",
   "execution_count": 18,
   "metadata": {},
   "outputs": [
    {
     "data": {
      "image/png": "[encoded data removed]",
      "text/plain": [
       "<Figure size 432x288 with 1 Axes>"
      ]
     },
     "metadata": {},
     "output_type": "display_data"
    },
    {
     "data": {
      "image/png": "[encoded data removed]",
      "text/plain": [
       "<Figure size 432x288 with 1 Axes>"
      ]
     },
     "metadata": {},
     "output_type": "display_data"
    }
   ],
   "source": [
    "plot_sentiment(occurances[coin], coin, 'good')\n",
    "plot_sentiment(occurances[coin], coin, 'bad')"
   ]
  },
  {
   "cell_type": "markdown",
   "metadata": {},
   "source": [
    "Sentiment is still set to be good - bad."
   ]
  },
  {
   "cell_type": "code",
   "execution_count": 19,
   "metadata": {},
   "outputs": [],
   "source": [
    "def plot_sentiment_both(cur):\n",
    "\n",
    "    symbol_data = occurances[cur]\n",
    "    mydf = pd.DataFrame(symbol_data)\n",
    "    mydf['time'] = mydf['time'].astype('datetime64[s]')\n",
    "    mydf.head()\n",
    "\n",
    "    mydf.plot(x = 'time', y = 'sentiment')"
   ]
  },
  {
   "cell_type": "markdown",
   "metadata": {},
   "source": [
    "## Plot both good and bad on the same axes"
   ]
  },
  {
   "cell_type": "code",
   "execution_count": 20,
   "metadata": {},
   "outputs": [],
   "source": [
    "def good_and_bad_plot1(cur):\n",
    "    # Sort out the sentiment data\n",
    "    symbol_data = occurances[cur]\n",
    "    mydf = pd.DataFrame(symbol_data)\n",
    "    mydf['time'] = mydf['time'].astype('datetime64[s]')\n",
    "\n",
    "    # Plot both of them\n",
    "    plt.plot(mydf.time, mydf.good)\n",
    "    plt.plot(mydf.time, mydf.bad)\n",
    "    plt.show()"
   ]
  },
  {
   "cell_type": "code",
   "execution_count": 21,
   "metadata": {},
   "outputs": [],
   "source": [
    "def good_and_bad_plot2(cur):\n",
    "    # Sort out the sentiment data\n",
    "    symbol_data = occurances[cur]\n",
    "    mydf = pd.DataFrame(symbol_data)\n",
    "    mydf['time'] = mydf['time'].astype('datetime64[s]')\n",
    "    mydf['bad'] = mydf['bad'] * -1\n",
    "\n",
    "    # Plot both of them\n",
    "    plt.plot(mydf.time, mydf.good)\n",
    "    plt.plot(mydf.time, mydf.bad)\n",
    "    plt.show()"
   ]
  },
  {
   "cell_type": "markdown",
   "metadata": {},
   "source": [
    "## Plotting sentiment and cost\n"
   ]
  },
  {
   "cell_type": "code",
   "execution_count": 22,
   "metadata": {},
   "outputs": [],
   "source": [
    "def overlay_plot(cur):\n",
    "    # Sort out the sentiment data\n",
    "    symbol_data = occurances[cur]\n",
    "    mydf = pd.DataFrame(symbol_data)\n",
    "    mydf['time'] = mydf['time'].astype('datetime64[s]')\n",
    "\n",
    "    # Sort out cost data\n",
    "    price_df = pd.DataFrame(all_prices[cur])\n",
    "    price_df = price_df.astype(float)\n",
    "    # Convert the float into a datetime. It is in ms format.\n",
    "    price_df[0] = price_df[0].astype('datetime64[ms]')\n",
    "    # Filter it to only do this day\n",
    "    price_df[0] = price_df[(price_df[0] > '2018-01-01 00:00:00') & (price_df[0] < '2018-01-08 00:00:01')]\n",
    "\n",
    "\n",
    "    #mydf['good']\n",
    "\n",
    "\n",
    "    fig = plt.figure() # Create matplotlib figure\n",
    "    ax = fig.add_subplot(111) # Create matplotlib axes\n",
    "    ax2 = ax.twinx()\n",
    "\n",
    "    mydf['bad'] = mydf['bad'] * -1\n",
    "    mydf.plot(x='time', y='good', kind='line', ax=ax)\n",
    "    mydf.plot(x='time', y='bad', kind='line', ax=ax)\n",
    "    price_df.plot(x=0, y=1, kind='line', ax=ax2, color='red')\n",
    "    plt.title(cur)\n",
    "    plt.show()\n",
    "    \n",
    "   \n",
    "   # fig.savefig(cur + \"_overlayplot.png\")\n",
    "    #plt.close()\n",
    "  "
   ]
  },
  {
   "cell_type": "code",
   "execution_count": 23,
   "metadata": {},
   "outputs": [
    {
     "data": {
      "image/png": "[encoded data removed]",
      "text/plain": [
       "<Figure size 432x288 with 2 Axes>"
      ]
     },
     "metadata": {},
     "output_type": "display_data"
    }
   ],
   "source": [
    "#for c in coins:\n",
    " #   if c[1] in occurances and len(all_prices[c[1]]) > 0:\n",
    "  #      overlay_plot(c[1])\"\"\"\n",
    "\n",
    "overlay_plot('XRP')"
   ]
  },
  {
   "cell_type": "markdown",
   "metadata": {},
   "source": [
    "# Binning"
   ]
  },
  {
   "cell_type": "code",
   "execution_count": 24,
   "metadata": {
    "scrolled": false
   },
   "outputs": [],
   "source": [
    "occurances_binned = {}\n",
    "\n",
    "occurances_binned = occurances\n",
    "for coin in occurances_binned:\n",
    "    for c in occurances_binned[coin]:\n",
    "        rel_time = c['time'] - 1514764800\n",
    "        bin_time = rel_time //300\n",
    "        c['time_since'] = rel_time\n",
    "        c['binned_time'] = bin_time\n",
    "\n",
    "\n",
    "for coin in all_prices:\n",
    "    for c in all_prices[coin]:\n",
    "        bin_time = ((c[0]//1000) - 1514764800) /300\n",
    "        c[0] = bin_time\n"
   ]
  },
  {
   "cell_type": "code",
   "execution_count": 40,
   "metadata": {},
   "outputs": [],
   "source": [
    "def overlay_plot_bins(cur):\n",
    "    # Sort out the sentiment data\n",
    "    symbol_data = occurances_binned[cur]\n",
    "    mydf = pd.DataFrame(symbol_data)\n",
    "   \n",
    "    #mydf['binned_time'] = mydf['binned_time'].astype('datetime64[s]')\n",
    "\n",
    "    # Sort out cost data\n",
    "    price_df = pd.DataFrame(all_prices[cur])\n",
    "    price_df = price_df.astype(float)\n",
    "    # Convert the float into a datetime. It is in ms format.\n",
    "    #price_df[0] = price_df[0].astype('datetime64[ms]')\n",
    "    # Filter it to only do this day\n",
    "    #price_df[0] = price_df[(price_df[0] > '2018-01-01 00:00:00') & (price_df[0] < '2018-01-08 00:00:01')]\n",
    "\n",
    "    fig = plt.figure() # Create matplotlib figure\n",
    "    ax = fig.add_subplot(111) # Create matplotlib axes\n",
    "    ax2 = ax.twinx()\n",
    "    \n",
    "    mydf['bad'] = mydf['bad'] * -1\n",
    "    mydf = mydf.groupby('binned_time').sum()\n",
    "\n",
    "\n",
    "    #mydf.plot(y='good', kind='bar',  ax=ax, color = 'blue')\n",
    "    #mydf.plot(y='bad', kind='bar', ax=ax, color= 'orange')\n",
    "    price_df.plot.scatter(x=0, y=1, ax=ax2, color='red')\n",
    "    plt.title(cur)\n",
    "    #fig.savefig(cur + \"_overlay_5min.png\")\n",
    "    plt.show()"
   ]
  },
  {
   "cell_type": "code",
   "execution_count": 41,
   "metadata": {
    "scrolled": true
   },
   "outputs": [],
   "source": [
    "#for coin in coins:\n",
    "#    if coin[1] in occurances_binned and len(all_prices[coin[1]]) > 0:\n",
    "#        overlay_plot_bins(coin[1])"
   ]
  },
  {
   "cell_type": "code",
   "execution_count": 42,
   "metadata": {},
   "outputs": [
    {
     "ename": "TypeError",
     "evalue": "scatter() missing 2 required positional arguments: 'x' and 'y'",
     "output_type": "error",
     "traceback": [
      "\u001b[0;31m---------------------------------------------------------------------------\u001b[0m",
      "\u001b[0;31mTypeError\u001b[0m                                 Traceback (most recent call last)",
      "\u001b[0;32m<ipython-input-42-9de316f8fa54>\u001b[0m in \u001b[0;36m<module>\u001b[0;34m()\u001b[0m\n\u001b[0;32m----> 1\u001b[0;31m \u001b[0moverlay_plot_bins\u001b[0m\u001b[0;34m(\u001b[0m\u001b[0;34m\"AION\"\u001b[0m\u001b[0;34m)\u001b[0m\u001b[0;34m\u001b[0m\u001b[0m\n\u001b[0m",
      "\u001b[0;32m<ipython-input-40-d1453979165c>\u001b[0m in \u001b[0;36moverlay_plot_bins\u001b[0;34m(cur)\u001b[0m\n\u001b[1;32m     24\u001b[0m     \u001b[0;31m#mydf.plot(y='good', kind='bar',  ax=ax, color = 'blue')\u001b[0m\u001b[0;34m\u001b[0m\u001b[0;34m\u001b[0m\u001b[0m\n\u001b[1;32m     25\u001b[0m     \u001b[0;31m#mydf.plot(y='bad', kind='bar', ax=ax, color= 'orange')\u001b[0m\u001b[0;34m\u001b[0m\u001b[0;34m\u001b[0m\u001b[0m\n\u001b[0;32m---> 26\u001b[0;31m     \u001b[0mprice_df\u001b[0m\u001b[0;34m.\u001b[0m\u001b[0mplot\u001b[0m\u001b[0;34m.\u001b[0m\u001b[0mscatter\u001b[0m\u001b[0;34m(\u001b[0m \u001b[0max\u001b[0m\u001b[0;34m=\u001b[0m\u001b[0max2\u001b[0m\u001b[0;34m,\u001b[0m \u001b[0mcolor\u001b[0m\u001b[0;34m=\u001b[0m\u001b[0;34m'red'\u001b[0m\u001b[0;34m)\u001b[0m\u001b[0;34m\u001b[0m\u001b[0m\n\u001b[0m\u001b[1;32m     27\u001b[0m     \u001b[0mplt\u001b[0m\u001b[0;34m.\u001b[0m\u001b[0mtitle\u001b[0m\u001b[0;34m(\u001b[0m\u001b[0mcur\u001b[0m\u001b[0;34m)\u001b[0m\u001b[0;34m\u001b[0m\u001b[0m\n\u001b[1;32m     28\u001b[0m     \u001b[0;31m#fig.savefig(cur + \"_overlay_5min.png\")\u001b[0m\u001b[0;34m\u001b[0m\u001b[0;34m\u001b[0m\u001b[0m\n",
      "\u001b[0;31mTypeError\u001b[0m: scatter() missing 2 required positional arguments: 'x' and 'y'"
     ]
    },
    {
     "data": {
      "image/png": "[encoded data removed]",
      "text/plain": [
       "<Figure size 432x288 with 2 Axes>"
      ]
     },
     "metadata": {},
     "output_type": "display_data"
    }
   ],
   "source": [
    "overlay_plot_bins(\"AION\")"
   ]
  },
  {
   "cell_type": "code",
   "execution_count": null,
   "metadata": {},
   "outputs": [],
   "source": []
  }
 ],
 "metadata": {
  "kernelspec": {
   "display_name": "Python 3",
   "language": "python",
   "name": "python3"
  },
  "language_info": {
   "codemirror_mode": {
    "name": "ipython",
    "version": 3
   },
   "file_extension": ".py",
   "mimetype": "text/x-python",
   "name": "python",
   "nbconvert_exporter": "python",
   "pygments_lexer": "ipython3",
   "version": "3.6.5"
  }
 },
 "nbformat": 4,
 "nbformat_minor": 2
}
