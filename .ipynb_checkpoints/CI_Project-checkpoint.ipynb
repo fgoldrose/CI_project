{
 "cells": [
  {
   "cell_type": "code",
   "execution_count": 198,
   "metadata": {
    "slideshow": {
     "slide_type": "-"
    }
   },
   "outputs": [],
   "source": [
    "import json\n",
    "import csv\n",
    "import numpy\n",
    "import scipy.signal\n",
    "import pytz\n",
    "import pandas as pd\n",
    "from binance.client import Client\n",
    "import spacy\n",
    "import matplotlib\n",
    "import numpy as np\n",
    "import matplotlib.pyplot as plt\n",
    "from collections import Counter\n",
    "import datetime\n",
    "import boto3\n",
    "import peakutils\n",
    "\n",
    "%matplotlib inline"
   ]
  },
  {
   "cell_type": "code",
   "execution_count": 2,
   "metadata": {},
   "outputs": [],
   "source": [
    "#coin = 'EOS' #getting plots for this coin."
   ]
  },
  {
   "cell_type": "markdown",
   "metadata": {},
   "source": [
    "# Get the coin price data from Binance."
   ]
  },
  {
   "cell_type": "code",
   "execution_count": 3,
   "metadata": {},
   "outputs": [],
   "source": [
    "coinfile = \"coins_on_binance.csv\"\n",
    "with open(coinfile) as cf:\n",
    "        rdr = csv.reader(cf)\n",
    "        coins = []\n",
    "        for row in rdr:\n",
    "            coins.append(row)"
   ]
  },
  {
   "cell_type": "markdown",
   "metadata": {},
   "source": [
    "Set up the Binance API to get the data we need."
   ]
  },
  {
   "cell_type": "code",
   "execution_count": 4,
   "metadata": {},
   "outputs": [],
   "source": [
    "client = Client(\"\", \"\")\n",
    "\n",
    "interval = Client.KLINE_INTERVAL_1MINUTE\n",
    "start = \"1 January, 2018\"\n",
    "end = \"7 January, 2018\""
   ]
  },
  {
   "cell_type": "markdown",
   "metadata": {},
   "source": [
    "The following function will get the historical price data for a given symbol (e.g. ETH) over the time interval."
   ]
  },
  {
   "cell_type": "code",
   "execution_count": 5,
   "metadata": {},
   "outputs": [],
   "source": [
    "def get_price_data(symbol):\n",
    "    sym = symbol + \"BTC\"\n",
    "    klines = client.get_historical_klines(sym, interval, start, end)\n",
    "\n",
    "    j = []\n",
    "    for t in klines:\n",
    "        row = [t[6], t[4], t[2], t[3], t[5], t[8]]\n",
    "        j.append(row)\n",
    "    return j"
   ]
  },
  {
   "cell_type": "markdown",
   "metadata": {},
   "source": [
    "Each output has the follow structure\n",
    "[Close time, Close price, High, Low, Volume, Number of trades]"
   ]
  },
  {
   "cell_type": "code",
   "execution_count": 6,
   "metadata": {},
   "outputs": [],
   "source": [
    "def get_all_price_data():\n",
    "    prices = {}\n",
    "    for c in coins:\n",
    "        row = get_price_data(c[1])\n",
    "        prices[c[1]] = row\n",
    "    with open(\"all_prices.json\", \"w\") as f:\n",
    "        json.dump(prices, f)"
   ]
  },
  {
   "cell_type": "code",
   "execution_count": 7,
   "metadata": {},
   "outputs": [],
   "source": [
    "with open(\"all_prices.json\") as f:\n",
    "    all_prices = json.load(f)"
   ]
  },
  {
   "cell_type": "code",
   "execution_count": 8,
   "metadata": {},
   "outputs": [],
   "source": [
    "def dict_prices():\n",
    "    d = {}\n",
    "    for coin in all_prices:\n",
    "        if(len(all_prices[coin]) > 0):\n",
    "            p = []\n",
    "            for c in all_prices[coin]:\n",
    "                p.append({'time': c[0]//1000, 'price': c[1]})\n",
    "            d[coin] = p\n",
    "        \n",
    "    return d"
   ]
  },
  {
   "cell_type": "code",
   "execution_count": 9,
   "metadata": {},
   "outputs": [],
   "source": [
    "def plot_price(cur):\n",
    "    price_df = pd.DataFrame(all_prices[cur])\n",
    "    price_df.head()\n",
    "    price_df = price_df.astype(float)\n",
    "    price_df.plot.line(x=0, y=1)"
   ]
  },
  {
   "cell_type": "code",
   "execution_count": 10,
   "metadata": {},
   "outputs": [],
   "source": [
    "prices = dict_prices()"
   ]
  },
  {
   "cell_type": "markdown",
   "metadata": {},
   "source": [
    "# Reddit comment sentiment"
   ]
  },
  {
   "cell_type": "code",
   "execution_count": 11,
   "metadata": {},
   "outputs": [],
   "source": [
    "filename = \"RC_2018-01-01to06_crypto\"\n",
    "nlp = spacy.load('en')\n",
    "occurances = {}"
   ]
  },
  {
   "cell_type": "markdown",
   "metadata": {},
   "source": [
    "Get a list of coins on Binance:"
   ]
  },
  {
   "cell_type": "markdown",
   "metadata": {},
   "source": [
    "Divide the comments based on references to coins:"
   ]
  },
  {
   "cell_type": "code",
   "execution_count": 12,
   "metadata": {},
   "outputs": [],
   "source": [
    "def new_occurances():\n",
    "    with open (filename) as f:\n",
    "        all_data = json.load(f)\n",
    "    for rc in all_data:\n",
    "        spcomment = nlp(rc['body'])\n",
    "        for symbol_line in coins:\n",
    "            symbol = symbol_line[1]\n",
    "            name = symbol_line[0]\n",
    "            has_symbol = False  \n",
    "            comment_dict = {'time': rc['created_utc'], 'body': rc['body'],\n",
    "                             'sentences' : [], 'subreddit': rc['subreddit']}\n",
    "            for sentence in spcomment.sents:\n",
    "                for word in sentence:\n",
    "                    if word.text.lower() == symbol.lower() or word.text.lower() == name.lower():\n",
    "                        has_symbol = True\n",
    "                        comment_dict['sentences'].append(sentence.text)\n",
    "                        break\n",
    "            if has_symbol:\n",
    "                if symbol in occurances:\n",
    "                    occurances[symbol].append(comment_dict)\n",
    "                else:\n",
    "                    occurances[symbol] = [comment_dict]"
   ]
  },
  {
   "cell_type": "markdown",
   "metadata": {},
   "source": [
    "Sentiment:"
   ]
  },
  {
   "cell_type": "code",
   "execution_count": 13,
   "metadata": {},
   "outputs": [],
   "source": [
    "def check_sentiment(comment):\n",
    "    good = 0\n",
    "    bad = 0\n",
    "    words = comment.lower().split()\n",
    "   \n",
    "    c = Counter(words)\n",
    "    for g in goodwords:\n",
    "        if g in words:\n",
    "           \n",
    "            good += c[g]\n",
    "    for b in badwords:\n",
    "        if b in words:\n",
    "           \n",
    "            bad += c[b]\n",
    "    return good-bad, good, bad"
   ]
  },
  {
   "cell_type": "code",
   "execution_count": 14,
   "metadata": {},
   "outputs": [],
   "source": [
    "def sentiment_comments_file():\n",
    "    goodwords = []\n",
    "    badwords = []\n",
    "\n",
    "    with open(\"good-words\") as f:\n",
    "        goodwords = [line.rstrip() for line in f]\n",
    "\n",
    "    with open(\"bad-words\") as f:\n",
    "        badwords = [line.rstrip() for line in f]\n",
    "\n",
    "    new_occurances()\n",
    "    for coin in occurances:\n",
    "        for comment in occurances[coin]:\n",
    "            comment['sentiment'], comment['good'], comment['bad'] = check_sentiment(comment['body'])\n",
    "\n",
    "    with open(\"sentiment_comments.json\", \"w\") as f:\n",
    "        json.dump(occurances, f)"
   ]
  },
  {
   "cell_type": "code",
   "execution_count": 15,
   "metadata": {},
   "outputs": [],
   "source": [
    "with open(\"sentiment_comments.json\") as f:\n",
    "    occurances = json.load(f)"
   ]
  },
  {
   "cell_type": "markdown",
   "metadata": {},
   "source": [
    "Plotting things:"
   ]
  },
  {
   "cell_type": "code",
   "execution_count": 16,
   "metadata": {},
   "outputs": [],
   "source": [
    "def plot_mentions(symbol_data, symbol):\n",
    "    symoccurances_df = pd.DataFrame(symbol_data)\n",
    "    symoccurances_df.plot(kind= 'bar' , x = 'time', y = 'sentiment', color='blue')"
   ]
  },
  {
   "cell_type": "code",
   "execution_count": 17,
   "metadata": {},
   "outputs": [],
   "source": [
    "def plot_length(symbol_data, symbol):\n",
    "    for c in symbol_data:\n",
    "        clen = 0\n",
    "        for sentence in c['sentences']:\n",
    "            clen += len(sentence)\n",
    "\n",
    "        c['length'] = clen\n",
    "       \n",
    "\n",
    "    df = pd.DataFrame(symbol_data)\n",
    "    \n",
    "    df.head()\n",
    "    df.plot(x = 'time', y ='length')"
   ]
  },
  {
   "cell_type": "code",
   "execution_count": 18,
   "metadata": {},
   "outputs": [],
   "source": [
    "def plot_sentiment(symbol_data, symbol, sentiment):\n",
    "    symoccurances_df = pd.DataFrame(symbol_data)\n",
    "#     Convert time to datetime type, it is in second format\n",
    "    symoccurances_df['time'] = symoccurances_df['time'].astype('datetime64[s]')\n",
    "    symoccurances_df.head()\n",
    "    symoccurances_df.plot(x = 'time', y = sentiment)\n",
    "    \n",
    "  "
   ]
  },
  {
   "cell_type": "markdown",
   "metadata": {},
   "source": [
    "Sentiment is still set to be good - bad."
   ]
  },
  {
   "cell_type": "code",
   "execution_count": 19,
   "metadata": {},
   "outputs": [],
   "source": [
    "def plot_sentiment_both(cur):\n",
    "\n",
    "    symbol_data = occurances[cur]\n",
    "    mydf = pd.DataFrame(symbol_data)\n",
    "    mydf['time'] = mydf['time'].astype('datetime64[s]')\n",
    "    mydf.head()\n",
    "\n",
    "    mydf.plot(x = 'time', y = 'sentiment')"
   ]
  },
  {
   "cell_type": "markdown",
   "metadata": {},
   "source": [
    "## Plot both good and bad on the same axes"
   ]
  },
  {
   "cell_type": "code",
   "execution_count": 20,
   "metadata": {},
   "outputs": [],
   "source": [
    "def good_and_bad_plot1(cur):\n",
    "    # Sort out the sentiment data\n",
    "    symbol_data = occurances[cur]\n",
    "    mydf = pd.DataFrame(symbol_data)\n",
    "    mydf['time'] = mydf['time'].astype('datetime64[s]')\n",
    "\n",
    "    # Plot both of them\n",
    "    plt.plot(mydf.time, mydf.good)\n",
    "    plt.plot(mydf.time, mydf.bad)\n",
    "    plt.show()"
   ]
  },
  {
   "cell_type": "code",
   "execution_count": 21,
   "metadata": {},
   "outputs": [],
   "source": [
    "def good_and_bad_plot2(cur):\n",
    "    # Sort out the sentiment data\n",
    "    symbol_data = occurances[cur]\n",
    "    mydf = pd.DataFrame(symbol_data)\n",
    "    mydf['time'] = mydf['time'].astype('datetime64[s]')\n",
    "    mydf['bad'] = mydf['bad'] * -1\n",
    "\n",
    "    # Plot both of them\n",
    "    plt.plot(mydf.time, mydf.good)\n",
    "    plt.plot(mydf.time, mydf.bad)\n",
    "    plt.show()"
   ]
  },
  {
   "cell_type": "markdown",
   "metadata": {},
   "source": [
    "## Plotting sentiment and cost\n"
   ]
  },
  {
   "cell_type": "code",
   "execution_count": 22,
   "metadata": {},
   "outputs": [],
   "source": [
    "def overlay_plot(cur):\n",
    "    # Sort out the sentiment data\n",
    "    symbol_data = occurances[cur]\n",
    "    mydf = pd.DataFrame(symbol_data)\n",
    "    mydf['time'] = mydf['time'].astype('datetime64[s]')\n",
    "\n",
    "    # Sort out cost data\n",
    "    price_df = pd.DataFrame(all_prices[cur])\n",
    "    price_df = price_df.astype(float)\n",
    "    # Convert the float into a datetime. It is in ms format.\n",
    "    price_df[0] = price_df[0].astype('datetime64[ms]')\n",
    "    # Filter it to only do this day\n",
    "    price_df[0] = price_df[(price_df[0] > '2018-01-01 00:00:00') & (price_df[0] < '2018-01-08 00:00:01')]\n",
    "\n",
    "\n",
    "    #mydf['good']\n",
    "\n",
    "\n",
    "    fig = plt.figure() # Create matplotlib figure\n",
    "    ax = fig.add_subplot(111) # Create matplotlib axes\n",
    "    ax2 = ax.twinx()\n",
    "\n",
    "    mydf['bad'] = mydf['bad'] * -1\n",
    "    mydf.plot(x='time', y='good', kind='line', ax=ax)\n",
    "    mydf.plot(x='time', y='bad', kind='line', ax=ax)\n",
    "    price_df.plot(x=0, y=1, kind='line', ax=ax2, color='red')\n",
    "    plt.title(cur)\n",
    "    plt.show()\n",
    "    \n",
    "   \n",
    "   # fig.savefig(cur + \"_overlayplot.png\")\n",
    "    #plt.close()\n",
    "  "
   ]
  },
  {
   "cell_type": "code",
   "execution_count": 23,
   "metadata": {},
   "outputs": [
    {
     "data": {
      "image/png": "[encoded data removed]",
      "text/plain": [
       "<Figure size 432x288 with 2 Axes>"
      ]
     },
     "metadata": {},
     "output_type": "display_data"
    }
   ],
   "source": [
    "#for c in coins:\n",
    " #   if c[1] in occurances and len(all_prices[c[1]]) > 0:\n",
    "  #      overlay_plot(c[1])\"\"\"\n",
    "\n",
    "overlay_plot('XRP')"
   ]
  },
  {
   "cell_type": "markdown",
   "metadata": {},
   "source": [
    "# Binning"
   ]
  },
  {
   "cell_type": "code",
   "execution_count": 24,
   "metadata": {
    "scrolled": false
   },
   "outputs": [],
   "source": [
    "def get_bins_comments(seconds):\n",
    "    for coin in occurances:\n",
    "        for c in occurances[coin]:\n",
    "            rel_time = c['time'] - 1514764800\n",
    "            bin_time = rel_time //seconds\n",
    "            c['time_since'] = rel_time\n",
    "            c['binned_time'] = bin_time\n",
    "\n",
    "\n",
    "    for coin in prices:\n",
    "        for c in prices[coin]:\n",
    "            bin_time = (c['time'] - 1514764800) /seconds\n",
    "            c['binned_time'] = bin_time\n"
   ]
  },
  {
   "cell_type": "code",
   "execution_count": 25,
   "metadata": {},
   "outputs": [],
   "source": [
    "get_bins_comments(3600)"
   ]
  },
  {
   "cell_type": "code",
   "execution_count": 26,
   "metadata": {},
   "outputs": [],
   "source": [
    "def overlay_plot_bins(cur):\n",
    "    # Sort out the sentiment data\n",
    "    symbol_data = occurances[cur]\n",
    "    mydf = pd.DataFrame(symbol_data)\n",
    "   \n",
    "    #mydf['binned_time'] = mydf['binned_time'].astype('datetime64[s]')\n",
    "\n",
    "    # Sort out cost data\n",
    "    price_df = pd.DataFrame(prices[cur])\n",
    "    price_df = price_df.astype(float)\n",
    "    # Convert the float into a datetime. It is in ms format.\n",
    "    #price_df[0] = price_df[0].astype('datetime64[ms]')\n",
    "    # Filter it to only do this day\n",
    "    #price_df[0] = price_df[(price_df[0] > '2018-01-01 00:00:00') & (price_df[0] < '2018-01-08 00:00:01')]\n",
    "\n",
    "    fig = plt.figure() # Create matplotlib figure\n",
    "    ax = fig.add_subplot(111) # Create matplotlib axes\n",
    "    ax2 = ax.twinx()\n",
    "\n",
    "    mydf['bad'] = mydf['bad'] * -1\n",
    "    mydf = mydf.groupby('binned_time').sum()\n",
    " \n",
    "    mydf.plot(y = 'good', kind='bar',  ax=ax, color = 'blue')\n",
    "    mydf.plot(y='bad', kind='bar', ax=ax, color= 'orange')\n",
    "    price_df.plot(x = 'binned_time', y='price', kind='line', ax=ax2, color='red')\n",
    "    plt.title(cur)\n",
    "    #fig.savefig(cur + \"_overlay_5min.png\")\n",
    "    plt.show()"
   ]
  },
  {
   "cell_type": "code",
   "execution_count": 27,
   "metadata": {
    "scrolled": true
   },
   "outputs": [
    {
     "data": {
      "image/png": "[encoded data removed]",
      "text/plain": [
       "<Figure size 432x288 with 2 Axes>"
      ]
     },
     "metadata": {},
     "output_type": "display_data"
    }
   ],
   "source": [
    "#for coin in coins:\n",
    "#    if coin[1] in occurances_binned and len(all_prices[coin[1]]) > 0:\n",
    "#        overlay_plot_bins(coin[1])\n",
    "overlay_plot_bins('XRP')"
   ]
  },
  {
   "cell_type": "code",
   "execution_count": 28,
   "metadata": {},
   "outputs": [],
   "source": [
    "def get_lengths_comments():\n",
    "    for coin in occurances:\n",
    "        for c in occurances[coin]:\n",
    "            clen = 0\n",
    "            for sentence in c['sentences']:\n",
    "                clen += len(sentence)\n",
    "\n",
    "            c['length'] = clen\n",
    "            c['tot_len'] = len(c['body'])"
   ]
  },
  {
   "cell_type": "code",
   "execution_count": 29,
   "metadata": {},
   "outputs": [],
   "source": [
    "get_lengths_comments()"
   ]
  },
  {
   "cell_type": "code",
   "execution_count": 30,
   "metadata": {},
   "outputs": [],
   "source": [
    "def overlay_length(cur):\n",
    "    price_df = pd.DataFrame(prices[cur])\n",
    "    price_df = price_df.astype(float)\n",
    "    \n",
    "    df = pd.DataFrame(occurances[cur])\n",
    "    df = df.groupby('binned_time').sum()\n",
    "    \n",
    "    fig = plt.figure() # Create matplotlib figure\n",
    "    ax = fig.add_subplot(111) # Create matplotlib axes\n",
    "    ax2 = ax.twinx()\n",
    "    \n",
    "    \n",
    "    \n",
    "    df.plot( y = 'length', kind='bar',  ax=ax, color = 'blue')\n",
    "    price_df.plot(x='binned_time', y='price', ax = ax2, color='red')\n",
    "    plt.title(cur + \" Length\")\n",
    "    plt.show()\n",
    "    #fig.savefig(cur + \"_length_hour.png\")\n",
    "    #plt.close()"
   ]
  },
  {
   "cell_type": "code",
   "execution_count": 31,
   "metadata": {},
   "outputs": [],
   "source": [
    "#for coin in occurances:\n",
    "#    if len(all_prices[coin]) > 0:\n",
    "#        overlay_length(coin)"
   ]
  },
  {
   "cell_type": "code",
   "execution_count": 32,
   "metadata": {
    "scrolled": true
   },
   "outputs": [
    {
     "data": {
      "image/png": "[encoded data removed]",
      "text/plain": [
       "<Figure size 432x288 with 2 Axes>"
      ]
     },
     "metadata": {},
     "output_type": "display_data"
    }
   ],
   "source": [
    "overlay_length(\"AION\")"
   ]
  },
  {
   "cell_type": "code",
   "execution_count": 33,
   "metadata": {},
   "outputs": [],
   "source": [
    "def overlay_length_tot(cur):\n",
    "    price_df = pd.DataFrame(prices[cur])\n",
    "    price_df = price_df.astype(float)\n",
    "    \n",
    "    df = pd.DataFrame(occurances[cur])\n",
    "    df = df.groupby('binned_time').sum()\n",
    "    \n",
    "    fig = plt.figure() # Create matplotlib figure\n",
    "    ax = fig.add_subplot(111) # Create matplotlib axes\n",
    "    ax2 = ax.twinx()\n",
    "    \n",
    "    \n",
    "    \n",
    "    df.plot( y = 'tot_len', kind='bar',  ax=ax, color = 'blue')\n",
    "    price_df.plot(x='binned_time', y='price', ax = ax2, color='red')\n",
    "    plt.title(cur + \" Total Length\")\n",
    "    plt.show()\n",
    "    #fig.savefig(cur + \"_totallength_hour.png\")\n",
    "    #plt.close()"
   ]
  },
  {
   "cell_type": "code",
   "execution_count": 34,
   "metadata": {},
   "outputs": [],
   "source": [
    "#for coin in occurances:\n",
    "#    if len(all_prices[coin]) > 0:\n",
    "#        overlay_length_tot(coin)"
   ]
  },
  {
   "cell_type": "code",
   "execution_count": 35,
   "metadata": {},
   "outputs": [],
   "source": [
    "for coin in occurances:\n",
    "    for c in occurances[coin]:\n",
    "        c['num'] = 1"
   ]
  },
  {
   "cell_type": "code",
   "execution_count": 36,
   "metadata": {},
   "outputs": [],
   "source": [
    "def overlay_num_comments(cur):\n",
    "    price_df = pd.DataFrame(all_prices[cur])\n",
    "    price_df = price_df.astype(float)\n",
    "    \n",
    "    df = pd.DataFrame(occurances[cur])\n",
    "    df = df.groupby('binned_time').sum()\n",
    "    \n",
    "    fig = plt.figure() # Create matplotlib figure\n",
    "    ax = fig.add_subplot(111) # Create matplotlib axes\n",
    "    ax2 = ax.twinx()\n",
    "    \n",
    "    \n",
    "\n",
    "    df.plot( y = 'num', kind='bar',  ax=ax, color = 'blue')\n",
    "    price_df.plot(x=0, y=1, ax = ax2, color='red')\n",
    "    plt.title(cur + \" Number of Comments\")\n",
    "    plt.show()\n",
    "    #fig.savefig(cur + \"_numcomments_hour.png\")\n",
    "    #plt.close()"
   ]
  },
  {
   "cell_type": "code",
   "execution_count": 37,
   "metadata": {},
   "outputs": [],
   "source": [
    "#for coin in occurances:  \n",
    "#    if len(all_prices[coin]) > 0:\n",
    "#        overlay_num_comments(coin)"
   ]
  },
  {
   "cell_type": "code",
   "execution_count": 38,
   "metadata": {},
   "outputs": [],
   "source": [
    "def overlay_wordspercomment(cur):\n",
    "    price_df = pd.DataFrame(all_prices[cur])\n",
    "    price_df = price_df.astype(float)\n",
    "    \n",
    "    df = pd.DataFrame(occurances[cur])\n",
    "    df = df.groupby('binned_time').sum()\n",
    "    df['good_avg'] = df['good']/df['num']\n",
    "    df['bad_avg'] = -(df['bad']/df['num'])\n",
    "    \n",
    "    fig = plt.figure() # Create matplotlib figure\n",
    "    ax = fig.add_subplot(111) # Create matplotlib axes\n",
    "    ax2 = ax.twinx()\n",
    "    \n",
    "    \n",
    "    \n",
    "    df.plot( y = 'good_avg', kind='bar',  ax=ax, color = 'blue')\n",
    "    df.plot( y='bad_avg', kind='bar', ax=ax, color= 'orange')\n",
    "    price_df.plot(x=0, y=1, ax = ax2, color='red')\n",
    "    plt.title(cur + \" sentiment words/comment\")\n",
    "    plt.show()\n",
    "    #fig.savefig(cur + \"_sentimentpercomment_hour.png\")\n",
    "    #plt.close()"
   ]
  },
  {
   "cell_type": "code",
   "execution_count": 39,
   "metadata": {},
   "outputs": [],
   "source": [
    "#for coin in occurances:  \n",
    "#    if len(all_prices[coin]) > 0:\n",
    "#        overlay_wordspercomment(coin)"
   ]
  },
  {
   "cell_type": "code",
   "execution_count": 40,
   "metadata": {},
   "outputs": [],
   "source": [
    "def overlay_wordsperlength(cur):\n",
    "    price_df = pd.DataFrame(all_prices[cur])\n",
    "    price_df = price_df.astype(float)\n",
    "    \n",
    "    df = pd.DataFrame(occurances[cur])\n",
    "    df = df.groupby('binned_time').sum()\n",
    "    df['good_avg'] = df['good']/df['tot_len']\n",
    "    df['bad_avg'] = -(df['bad']/df['tot_len'])\n",
    "    \n",
    "    fig = plt.figure() # Create matplotlib figure\n",
    "    ax = fig.add_subplot(111) # Create matplotlib axes\n",
    "    ax2 = ax.twinx()\n",
    "    \n",
    "    \n",
    "    \n",
    "    df.plot( y = 'good_avg', kind='bar',  ax=ax, color = 'blue')\n",
    "    df.plot( y='bad_avg', kind='bar', ax=ax, color= 'orange')\n",
    "    price_df.plot(x=0, y=1, ax = ax2, color='red')\n",
    "    plt.title(cur + \" sentiment words/length\")\n",
    "    plt.show()\n",
    "    #fig.savefig(cur + \"_sentimentperlength_hour.png\")\n",
    "    #plt.close()"
   ]
  },
  {
   "cell_type": "code",
   "execution_count": 41,
   "metadata": {},
   "outputs": [],
   "source": [
    "#for coin in occurances:  \n",
    "#    if len(all_prices[coin]) > 0:\n",
    "#        overlay_wordsperlength(coin)"
   ]
  },
  {
   "cell_type": "code",
   "execution_count": 42,
   "metadata": {},
   "outputs": [],
   "source": [
    "#with open(\"occurances_saved_hour.json\", \"w\") as f:\n",
    "#    json.dump(occurances, f)"
   ]
  },
  {
   "cell_type": "code",
   "execution_count": 43,
   "metadata": {},
   "outputs": [],
   "source": [
    "interesting_hour = {}"
   ]
  },
  {
   "cell_type": "code",
   "execution_count": 44,
   "metadata": {},
   "outputs": [],
   "source": [
    "def bin_compare(cur, interval, measure1, measure2):\n",
    "    comments =  occurances[cur]\n",
    "    binned = {}\n",
    "    for c in comments:\n",
    "        bin_time = (c['time'] - 1514764800) //interval\n",
    "        if bin_time in binned:\n",
    "            binned[bin_time]['good'] += c['good']\n",
    "            binned[bin_time]['bad'] += c['bad']\n",
    "            binned[bin_time]['length'] += c['length']\n",
    "            binned[bin_time]['tot_len'] += c['tot_len']\n",
    "            binned[bin_time]['goodavg'] += c['good']/c['tot_len']\n",
    "            binned[bin_time]['num'] += 1\n",
    "\n",
    "        else:\n",
    "            binned[bin_time] = {'binned_time' : bin_time, 'good': c['good'], 'bad': c['bad'], 'length': c['length'], 'tot_len' : c['tot_len'], 'goodavg' : c['good']/c['tot_len'], 'num': 1}\n",
    "  \n",
    "    measure1_all = [binned[k][measure1] for k in binned]\n",
    "    avg_measure1 = sum(measure1_all)/len(measure1_all)\n",
    "    std_measure1 = np.std(measure1_all)\n",
    "        \n",
    "    interesting = []\n",
    "    \n",
    "    for b in binned:\n",
    "        if (b-1 not in binned or abs(binned[b-1][measure1] - avg_measure1) <=std_measure1) and abs(binned[b][measure1] - avg_measure1) > std_measure1:\n",
    "            #interesting.append(b)\n",
    "            binned[b]['gcolor'] =  'lightgreen'       \n",
    "            \n",
    "        else:\n",
    "            binned[b]['gcolor'] = 'blue'\n",
    "    \n",
    "    interesting_hour[cur] = interesting\n",
    "    \n",
    "    b_list = []\n",
    "    for b in binned:\n",
    "        b_list.append(binned[b])\n",
    "        \n",
    "    for coin in prices:\n",
    "        for c in prices[coin]:\n",
    "            bin_time = (c['time'] - 1514764800) /interval\n",
    "            c['binned_time'] = bin_time\n",
    "    \n",
    "    df = pd.DataFrame(b_list)\n",
    "    df[measure2] = -df[measure2]\n",
    "    price_df = pd.DataFrame(prices[cur])\n",
    "    price_df = price_df.astype(float)\n",
    "    \n",
    "    fig = plt.figure() # Create matplotlib figure\n",
    "    ax = fig.add_subplot(111) # Create matplotlib axes\n",
    "    ax2 = ax.twinx()\n",
    "    \n",
    "    #df = df.head(40)\n",
    "    gcolors = [binned[b]['gcolor'] for b in binned]\n",
    "    df.plot(x = 'binned_time', y = measure1, kind = 'bar', ax=ax, color = gcolors)\n",
    "    df.plot(x = 'binned_time', y = measure2, kind = 'bar', ax=ax, color = 'orange')\n",
    "    price_df.plot(x = 'binned_time', y = 'price', kind = 'line', ax =ax2, color = 'red')\n",
    "    #fig.savefig(cur + '_interesting_hour.png')\n",
    "    #plt.close()"
   ]
  },
  {
   "cell_type": "code",
   "execution_count": 45,
   "metadata": {
    "scrolled": true
   },
   "outputs": [],
   "source": [
    "#for coin in occurances:  \n",
    "#    if len(all_prices[coin]) > 0:\n",
    "#        bin_compare(coin, 3600)"
   ]
  },
  {
   "cell_type": "code",
   "execution_count": 46,
   "metadata": {},
   "outputs": [],
   "source": [
    "#with open('interesting_hour_bins.json', 'w') as f:\n",
    "#    json.dump(interesting_hour, f)"
   ]
  },
  {
   "cell_type": "code",
   "execution_count": 47,
   "metadata": {},
   "outputs": [
    {
     "data": {
      "image/png": "[encoded data removed]",
      "text/plain": [
       "<Figure size 432x288 with 2 Axes>"
      ]
     },
     "metadata": {},
     "output_type": "display_data"
    }
   ],
   "source": [
    "bin_compare('XRP', 3600, 'good', 'bad')"
   ]
  },
  {
   "cell_type": "markdown",
   "metadata": {},
   "source": [
    "# Comprehend"
   ]
  },
  {
   "cell_type": "code",
   "execution_count": 48,
   "metadata": {},
   "outputs": [],
   "source": [
    "def do_comprehend():\n",
    "    comprehend = boto3.client('comprehend')\n",
    "    for coin in occurances:\n",
    "        for comment in occurances[coin]:\n",
    "            response = comprehend.detect_sentiment(Text= ' '.join(comment['sentences']), LanguageCode='en')\n",
    "            comment['comprehend_sentiment'] = response['Sentiment']\n",
    "            comment['comprehend_scores'] = response['SentimentScore']"
   ]
  },
  {
   "cell_type": "code",
   "execution_count": 49,
   "metadata": {},
   "outputs": [],
   "source": [
    "#do_comprehend()\n",
    "#with open('comments_with_comprehend.json', 'w') as f:\n",
    "#    json.dump(occurances, f)"
   ]
  },
  {
   "cell_type": "code",
   "execution_count": 50,
   "metadata": {},
   "outputs": [],
   "source": [
    "def comprehend_bin_compare(cur, interval):\n",
    "    comments =  occurances[cur]\n",
    "    binned = {}\n",
    "    for c in comments:\n",
    "        cs = c['comprehend_scores']\n",
    "        bin_time = (c['time'] - 1514764800) //interval\n",
    "        if bin_time in binned:\n",
    "            binned[bin_time]['Positive'] += cs['Positive']\n",
    "            binned[bin_time]['Negative'] += cs['Negative']\n",
    "            binned[bin_time]['Neutral'] += cs['Neutral']\n",
    "            binned[bin_time]['Mixed'] += cs['Mixed']\n",
    "            binned[bin_time]['num'] += 1\n",
    "\n",
    "        else:\n",
    "            binned[bin_time] = {'binned_time' : bin_time, 'Positive': cs['Positive'], 'Negative': cs['Negative'], 'Neutral': cs['Neutral'], 'Mixed' : cs['Mixed'], 'num': 1}\n",
    "\n",
    "    \n",
    "    b_list = []\n",
    "    for b in binned:\n",
    "        binned[b]['posavg'] = binned[b]['Positive']/binned[b]['num']\n",
    "        binned[b]['negavg'] = -binned[b]['Negative']/binned[b]['num']\n",
    "        b_list.append(binned[b])\n",
    "        \n",
    "    for coin in prices:\n",
    "        for c in prices[coin]:\n",
    "            bin_time = (c['time'] - 1514764800) /interval\n",
    "            c['binned_time'] = bin_time\n",
    "    \n",
    "    df = pd.DataFrame(b_list)\n",
    "    price_df = pd.DataFrame(prices[cur])\n",
    "    price_df = price_df.astype(float)\n",
    "    \n",
    "    fig = plt.figure() # Create matplotlib figure\n",
    "    ax = fig.add_subplot(111) # Create matplotlib axes\n",
    "    ax2 = ax.twinx()\n",
    "    \n",
    "    #df = df.head(40)\n",
    "    df.plot(x = 'binned_time', y = 'posavg', kind = 'bar', ax=ax, color = 'blue')\n",
    "    df.plot(x = 'binned_time', y = 'negavg', kind = 'bar', ax=ax, color = 'orange')\n",
    "    price_df.plot(x = 'binned_time', y = 'price', kind = 'line', ax =ax2, color = 'red')\n",
    "    fig.savefig(cur + '_comprehend_avgpercomment_hour.png')\n",
    "    plt.close()"
   ]
  },
  {
   "cell_type": "code",
   "execution_count": 52,
   "metadata": {
    "scrolled": true
   },
   "outputs": [],
   "source": [
    "#for coin in occurances:  \n",
    "#    if len(all_prices[coin]) > 0:\n",
    "#        comprehend_bin_compare(coin, 3600)"
   ]
  },
  {
   "cell_type": "code",
   "execution_count": 53,
   "metadata": {
    "scrolled": true
   },
   "outputs": [
    {
     "data": {
      "image/png": "[encoded data removed]",
      "text/plain": [
       "<Figure size 432x288 with 2 Axes>"
      ]
     },
     "metadata": {},
     "output_type": "display_data"
    }
   ],
   "source": [
    "bin_compare('XRP', 3600, 'good', 'bad')"
   ]
  },
  {
   "cell_type": "code",
   "execution_count": 283,
   "metadata": {},
   "outputs": [],
   "source": [
    "def plot_price_peaks(cur):\n",
    "    pricelist = np.array([float(c['price']) for c in prices[cur]])\n",
    "    times = np.array([float(c['time']) for c in prices[cur]])\n",
    "    peaks = scipy.signal.find_peaks_cwt(pricelist, np.arange(1,1000))\n",
    "    print(peaks)\n",
    "\n",
    "    plt.plot(times, pricelist)\n",
    "    plt.plot(times[peaks], pricelist[peaks], marker=\"o\", ls=\"\", ms=3 )"
   ]
  },
  {
   "cell_type": "code",
   "execution_count": 284,
   "metadata": {},
   "outputs": [
    {
     "name": "stdout",
     "output_type": "stream",
     "text": [
      "[   4 1583 3568 4018 5089 6169 8512]\n"
     ]
    },
    {
     "data": {
      "image/png": "[encoded data removed]",
      "text/plain": [
       "<Figure size 432x288 with 1 Axes>"
      ]
     },
     "metadata": {},
     "output_type": "display_data"
    }
   ],
   "source": [
    "plot_price_peaks('ETH')"
   ]
  },
  {
   "cell_type": "code",
   "execution_count": 318,
   "metadata": {},
   "outputs": [],
   "source": [
    "all_peaks = {}"
   ]
  },
  {
   "cell_type": "code",
   "execution_count": 319,
   "metadata": {},
   "outputs": [],
   "source": [
    "def plot_price_peaks_2(cur):\n",
    "    pricelist = np.array([float(c['price']) for c in prices[cur]])\n",
    "    times = np.array([c['time'] for c in prices[cur]])\n",
    "   \n",
    "    peaks = peakutils.indexes(pricelist, thres=0.1, min_dist=750)\n",
    "    peaktimes = [int(times[p]) for p in peaks]\n",
    "    all_peaks[cur] = peaktimes\n",
    "    \n",
    "    #plt.plot(times, pricelist)\n",
    "    #plt.plot(times[peaks], pricelist[peaks], marker=\"o\", ls=\"\", ms=3 )"
   ]
  },
  {
   "cell_type": "code",
   "execution_count": 320,
   "metadata": {},
   "outputs": [],
   "source": [
    "for coin in prices:\n",
    "    plot_price_peaks_2(coin)"
   ]
  },
  {
   "cell_type": "code",
   "execution_count": 321,
   "metadata": {},
   "outputs": [],
   "source": [
    "#with open('price_peaks.json', 'w') as f:\n",
    " #   json.dump(all_peaks, f)"
   ]
  },
  {
   "cell_type": "code",
   "execution_count": null,
   "metadata": {},
   "outputs": [],
   "source": []
  }
 ],
 "metadata": {
  "kernelspec": {
   "display_name": "Python 3",
   "language": "python",
   "name": "python3"
  },
  "language_info": {
   "codemirror_mode": {
    "name": "ipython",
    "version": 3
   },
   "file_extension": ".py",
   "mimetype": "text/x-python",
   "name": "python",
   "nbconvert_exporter": "python",
   "pygments_lexer": "ipython3",
   "version": "3.6.5"
  }
 },
 "nbformat": 4,
 "nbformat_minor": 2
}
